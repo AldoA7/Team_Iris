{
  "nbformat": 4,
  "nbformat_minor": 0,
  "metadata": {
    "colab": {
      "provenance": []
    },
    "kernelspec": {
      "name": "python3",
      "display_name": "Python 3"
    },
    "language_info": {
      "name": "python"
    }
  },
  "cells": [
    {
      "cell_type": "code",
      "source": [
        "\"\"\" ADD TO PREDICT - Data_Profiling Notebook\"\"\"\n",
        "# Mount Colab to Google Drive\n",
        "from google.colab import drive\n",
        "drive.mount('/content/drive')"
      ],
      "metadata": {
        "id": "Aeykz6TsMspi",
        "colab": {
          "base_uri": "https://localhost:8080/"
        },
        "outputId": "56e2c0c2-10a4-459f-f20f-6130f487f000"
      },
      "execution_count": null,
      "outputs": [
        {
          "output_type": "stream",
          "name": "stdout",
          "text": [
            "Mounted at /content/drive\n"
          ]
        }
      ]
    },
    {
      "cell_type": "code",
      "execution_count": null,
      "metadata": {
        "id": "7BunNKFfI0Ls",
        "colab": {
          "base_uri": "https://localhost:8080/"
        },
        "outputId": "c9a4ddf5-54b8-4daa-875d-6dcaf020f78d"
      },
      "outputs": [
        {
          "output_type": "stream",
          "name": "stdout",
          "text": [
            "Requirement already satisfied: xlrd in /usr/local/lib/python3.10/dist-packages (2.0.1)\n"
          ]
        }
      ],
      "source": [
        "\"\"\" ADD TO PREDICT - Data_Profiling Notebook\"\"\"\n",
        "!apt-get install openjdk-8-jdk-headless -qq > /dev/null # Installing Java 8\n",
        "!wget -q https://archive.apache.org/dist/spark/spark-3.0.2/spark-3.0.2-bin-hadoop3.2.tgz # downloading Spark preconfigured with hadoop\n",
        "!tar xf spark-3.0.2-bin-hadoop3.2.tgz # unzipping spark file\n",
        "!pip install -q findspark #  install findspark\n",
        "!pip install xlrd"
      ]
    },
    {
      "cell_type": "code",
      "source": [
        "\"\"\" ADD TO PREDICT - Data_Profiling Notebook\"\"\"\n",
        "import os\n",
        "# Set the environment variables for JAVA_HOME and SPARK_HOME i.e. setting your spark folder to your system path environment\n",
        "os.environ[\"JAVA_HOME\"] = \"/usr/lib/jvm/java-8-openjdk-amd64\"\n",
        "os.environ[\"SPARK_HOME\"] = \"/content/spark-3.0.2-bin-hadoop3.2\""
      ],
      "metadata": {
        "id": "ey0ba9LTJwPb"
      },
      "execution_count": null,
      "outputs": []
    },
    {
      "cell_type": "code",
      "source": [
        "\"\"\" ADD TO PREDICT - Data_Profiling Notebook\"\"\"\n",
        "# Import and initialize findspark to to make pyspark importable as a regular library and\n",
        "# creating a Spark Session with a Spark variable\n",
        "import findspark\n",
        "findspark.init()\n"
      ],
      "metadata": {
        "id": "eRaYbEJXKT4q"
      },
      "execution_count": null,
      "outputs": []
    },
    {
      "cell_type": "code",
      "execution_count": null,
      "metadata": {
        "id": "F7WNxkQg7pZR"
      },
      "outputs": [],
      "source": [
        "import pandas as pd\n",
        "import numpy as np\n",
        "import matplotlib.pyplot as plt\n",
        "import glob\n",
        "\n",
        "from pyspark import SparkContext\n",
        "from pyspark.sql import SparkSession\n",
        "from pyspark.sql import functions as F\n",
        "from pyspark.sql.types import *\n",
        "from pyspark.sql.functions import col, to_date, expr\n",
        "\n",
        "from pyspark.sql.types import StructType, StructField, StringType, IntegerType, FloatType, DateType, TimestampType"
      ]
    },
    {
      "cell_type": "code",
      "source": [
        "# Set up a SparkSession.\n",
        "\"\"\" ADD TO PREDICT - Data_Profiling Notebook\"\"\"\n",
        "sc = SparkContext.getOrCreate()\n",
        "spark = SparkSession(sc)"
      ],
      "metadata": {
        "id": "9Dq8zYt0Tmir"
      },
      "execution_count": null,
      "outputs": []
    },
    {
      "cell_type": "code",
      "source": [
        "# Code below uploads file from local machine\n",
        "from google.colab import files\n",
        "files.upload()"
      ],
      "metadata": {
        "id": "-1j_y2k2MQ9w"
      },
      "execution_count": null,
      "outputs": []
    },
    {
      "cell_type": "code",
      "source": [
        "df_pandas = pd.read_excel(\"/content/supply_chain_data.xlsx\", engine=\"openpyxl\")"
      ],
      "metadata": {
        "id": "5T2yxTdBTThZ"
      },
      "execution_count": null,
      "outputs": []
    },
    {
      "cell_type": "code",
      "source": [
        "# Convert Pandas dataframe to Spark dataframe\n",
        "df_spark = spark.createDataFrame(df_pandas)"
      ],
      "metadata": {
        "colab": {
          "base_uri": "https://localhost:8080/"
        },
        "id": "K_TNgXCGTaWo",
        "outputId": "90b2a54d-a8d9-4443-c526-b5cf70fc89ce"
      },
      "execution_count": null,
      "outputs": [
        {
          "output_type": "stream",
          "name": "stderr",
          "text": [
            "/content/spark-3.0.2-bin-hadoop3.2/python/pyspark/sql/pandas/conversion.py:327: FutureWarning: iteritems is deprecated and will be removed in a future version. Use .items instead.\n",
            "  for column, series in pdf.iteritems():\n"
          ]
        }
      ]
    },
    {
      "cell_type": "code",
      "source": [
        "# Show the data in Spark dataframe\n",
        "df_spark.show()"
      ],
      "metadata": {
        "colab": {
          "base_uri": "https://localhost:8080/"
        },
        "id": "RtPiVz82TdnI",
        "outputId": "4ddce1d9-dd25-4f35-d53b-996d82ab7d84"
      },
      "execution_count": null,
      "outputs": [
        {
          "output_type": "stream",
          "name": "stdout",
          "text": [
            "+--------------+-------------------+-----------+-------+---+-------------+--------------------+-------------------+---------+----------+----------+----------------+-------------+-----------------+\n",
            "|      Order ID|         Order Date|Origin Port|Carrier|TPT|Service Level|Ship ahead day count|Ship Late Day count| Customer|Product ID|Plant Code|Destination Port|Unit quantity|           Weight|\n",
            "+--------------+-------------------+-----------+-------+---+-------------+--------------------+-------------------+---------+----------+----------+----------------+-------------+-----------------+\n",
            "|1.4472964467E9|2013-05-26 00:00:00|     PORT09|  V44_3|  1|          CRF|                   3|                  0|V55555_53|   1700106|   PLANT16|          PORT09|          808|             14.3|\n",
            "|1.4471580147E9|2013-05-26 00:00:00|     PORT09|  V44_3|  1|          CRF|                   3|                  0|V55555_53|   1700106|   PLANT16|          PORT09|         3188|            87.94|\n",
            "|1.4471388987E9|2013-05-26 00:00:00|     PORT09|  V44_3|  1|          CRF|                   3|                  0|V55555_53|   1700106|   PLANT16|          PORT09|         2331|             61.2|\n",
            "|1.4473635277E9|2013-05-26 00:00:00|     PORT09|  V44_3|  1|          CRF|                   3|                  0|V55555_53|   1700106|   PLANT16|          PORT09|          847|            16.16|\n",
            "|1.4473639807E9|2013-05-26 00:00:00|     PORT09|  V44_3|  1|          CRF|                   3|                  0|V55555_53|   1700106|   PLANT16|          PORT09|         2163|            52.34|\n",
            "|1.4473514407E9|2013-05-26 00:00:00|     PORT09|  V44_3|  1|          CRF|                   3|                  0|V55555_53|   1700106|   PLANT16|          PORT09|         3332|             92.8|\n",
            "|1.4473202357E9|2013-05-26 00:00:00|     PORT09|  V44_3|  1|          CRF|                   3|                  0|V55555_53|   1700106|   PLANT16|          PORT09|         1782|             46.9|\n",
            "|1.4471580187E9|2013-05-26 00:00:00|     PORT09|  V44_3|  1|          CRF|                   3|                  0|V55555_53|   1700106|   PLANT16|          PORT09|          427|             2.86|\n",
            "|1.4472193407E9|2013-05-26 00:00:00|     PORT09|  V44_3|  1|          CRF|                   3|                  0|V55555_53|   1700106|   PLANT16|          PORT09|         1291|             26.6|\n",
            "|1.4473984157E9|2013-05-26 00:00:00|     PORT09|  V44_3|  1|          CRF|                   3|                  0|V55555_53|   1700106|   PLANT16|          PORT09|         2294|             62.2|\n",
            "|1.4473816787E9|2013-05-26 00:00:00|     PORT09|  V44_3|  1|          CRF|                   3|                  0|V55555_53|   1700106|   PLANT16|          PORT09|         2766|             75.5|\n",
            "|1.4471707847E9|2013-05-26 00:00:00|     PORT09|  V44_3|  1|          CRF|                   3|                  0|V55555_53|   1700106|   PLANT16|          PORT09|          798|             14.3|\n",
            "|1.4471550557E9|2013-05-26 00:00:00|     PORT09|  V44_3|  1|          CRF|                   3|                  0|V55555_53|   1697884|   PLANT16|          PORT09|          739|             73.9|\n",
            "|1.4472572647E9|2013-05-26 00:00:00|     PORT09|  V44_3|  1|          CRF|                   3|                  0|V55555_53|   1697884|   PLANT16|          PORT09|          280|7.800000000000001|\n",
            "|1.4472409887E9|2013-05-26 00:00:00|     PORT09|  V44_3|  1|          CRF|                   3|                  0|V55555_53|   1697884|   PLANT16|          PORT09|          574|             59.5|\n",
            "|1.4472572307E9|2013-05-26 00:00:00|     PORT09|  V44_3|  1|          CRF|                   3|                  0|V55555_53|   1697884|   PLANT16|          PORT09|          556|             52.7|\n",
            "|1.4472606527E9|2013-05-26 00:00:00|     PORT09|  V44_3|  1|          CRF|                   3|                  0|V55555_53|   1697884|   PLANT16|          PORT09|          544|             58.5|\n",
            "|1.4471393747E9|2013-05-26 00:00:00|     PORT09|  V44_3|  1|          CRF|                   3|                  0|V55555_53|   1697884|   PLANT16|          PORT09|         1151|            181.7|\n",
            "|1.4473085897E9|2013-05-26 00:00:00|     PORT09|  V44_3|  1|          CRF|                   3|                  0|V55555_53|   1697884|   PLANT16|          PORT09|         1404|            227.2|\n",
            "|1.4471912707E9|2013-05-26 00:00:00|     PORT09|  V44_3|  1|          CRF|                   3|                  0|V55555_53|   1697884|   PLANT16|          PORT09|          662|             74.1|\n",
            "+--------------+-------------------+-----------+-------+---+-------------+--------------------+-------------------+---------+----------+----------+----------------+-------------+-----------------+\n",
            "only showing top 20 rows\n",
            "\n"
          ]
        }
      ]
    },
    {
      "cell_type": "code",
      "source": [
        "# Read Excel file into a Pandas dataframe\n",
        "scd_pd = pd.read_excel(\"/content/supply_chain_data.xlsx\", engine=\"openpyxl\", sheet_name=['OrderList',\n",
        "'FreightRates',\n",
        "'WhCosts',\n",
        "'WhCapacities',\n",
        "'ProductsPerPlant',\n",
        "'VmiCustomers',\n",
        "'PlantPorts'])"
      ],
      "metadata": {
        "id": "dMmc-w5kTVmm"
      },
      "execution_count": null,
      "outputs": []
    },
    {
      "cell_type": "code",
      "source": [
        "# Assign the different excel sheets from \"supply_chain_data.xlsx\" workbook into pandas dataframe\n",
        "ol_df_pd = scd_pd.get('OrderList')\n",
        "fr_df_pd = scd_pd.get('FreightRates')\n",
        "wh_costs_df_pd= scd_pd.get('WhCosts')\n",
        "wh_cap_df_pd= scd_pd.get('WhCapacities')\n",
        "ppp_df_pd= scd_pd.get('ProductsPerPlant')\n",
        "vc_df_pd= scd_pd.get('VmiCustomers')\n",
        "plant_ports_df_pd= scd_pd.get('PlantPorts')"
      ],
      "metadata": {
        "id": "Z9c_AXKJR_tD"
      },
      "execution_count": null,
      "outputs": []
    },
    {
      "cell_type": "markdown",
      "source": [
        "_______________________________________________________________________________"
      ],
      "metadata": {
        "id": "v7JfUnIRSTAG"
      }
    },
    {
      "cell_type": "markdown",
      "source": [
        "# Outputting **Pandas dataframes** and **schemas**"
      ],
      "metadata": {
        "id": "zQ4CRGppezOH"
      }
    },
    {
      "cell_type": "code",
      "source": [
        "# Output schema of 'ol_df_pd' dataframe\n",
        "print(ol_df_pd.info())"
      ],
      "metadata": {
        "colab": {
          "base_uri": "https://localhost:8080/"
        },
        "id": "cCSsDgsycOwU",
        "outputId": "a4b1d608-3feb-4707-ebfc-9337784f491b"
      },
      "execution_count": null,
      "outputs": [
        {
          "output_type": "stream",
          "name": "stdout",
          "text": [
            "<class 'pandas.core.frame.DataFrame'>\n",
            "RangeIndex: 9215 entries, 0 to 9214\n",
            "Data columns (total 14 columns):\n",
            " #   Column                Non-Null Count  Dtype         \n",
            "---  ------                --------------  -----         \n",
            " 0   Order ID              9215 non-null   float64       \n",
            " 1   Order Date            9215 non-null   datetime64[ns]\n",
            " 2   Origin Port           9215 non-null   object        \n",
            " 3   Carrier               9215 non-null   object        \n",
            " 4   TPT                   9215 non-null   int64         \n",
            " 5   Service Level         9215 non-null   object        \n",
            " 6   Ship ahead day count  9215 non-null   int64         \n",
            " 7   Ship Late Day count   9215 non-null   int64         \n",
            " 8   Customer              9215 non-null   object        \n",
            " 9   Product ID            9215 non-null   int64         \n",
            " 10  Plant Code            9215 non-null   object        \n",
            " 11  Destination Port      9215 non-null   object        \n",
            " 12  Unit quantity         9215 non-null   int64         \n",
            " 13  Weight                9215 non-null   float64       \n",
            "dtypes: datetime64[ns](1), float64(2), int64(5), object(6)\n",
            "memory usage: 1008.0+ KB\n",
            "None\n"
          ]
        }
      ]
    },
    {
      "cell_type": "code",
      "source": [
        "# Outputs \"ol_df_pd\" dataframe\n",
        "print(ol_df_pd)"
      ],
      "metadata": {
        "colab": {
          "base_uri": "https://localhost:8080/"
        },
        "id": "H-XgM61aSCv0",
        "outputId": "acc9898e-7a75-48de-cd2e-2c820995f9d1"
      },
      "execution_count": null,
      "outputs": [
        {
          "output_type": "stream",
          "name": "stdout",
          "text": [
            "          Order ID Order Date Origin Port Carrier  TPT Service Level  \\\n",
            "0     1.447296e+09 2013-05-26      PORT09   V44_3    1           CRF   \n",
            "1     1.447158e+09 2013-05-26      PORT09   V44_3    1           CRF   \n",
            "2     1.447139e+09 2013-05-26      PORT09   V44_3    1           CRF   \n",
            "3     1.447364e+09 2013-05-26      PORT09   V44_3    1           CRF   \n",
            "4     1.447364e+09 2013-05-26      PORT09   V44_3    1           CRF   \n",
            "...            ...        ...         ...     ...  ...           ...   \n",
            "9210  1.447305e+09 2013-05-26      PORT04  V444_1    1           DTD   \n",
            "9211  1.447319e+09 2013-05-26      PORT04  V444_1    1           DTD   \n",
            "9212  1.447322e+09 2013-05-26      PORT04  V444_1    1           DTD   \n",
            "9213  1.447145e+09 2013-05-26      PORT04  V444_1    1           DTD   \n",
            "9214  1.447328e+09 2013-05-26      PORT04  V444_1    1           DTD   \n",
            "\n",
            "      Ship ahead day count  Ship Late Day count           Customer  \\\n",
            "0                        3                    0          V55555_53   \n",
            "1                        3                    0          V55555_53   \n",
            "2                        3                    0          V55555_53   \n",
            "3                        3                    0          V55555_53   \n",
            "4                        3                    0          V55555_53   \n",
            "...                    ...                  ...                ...   \n",
            "9210                     5                    0  V55555555555555_8   \n",
            "9211                     5                    0  V55555555555555_8   \n",
            "9212                     5                    0  V55555555555555_8   \n",
            "9213                     5                    0  V55555555555555_8   \n",
            "9214                     5                    0  V55555555555555_8   \n",
            "\n",
            "      Product ID Plant Code Destination Port  Unit quantity     Weight  \n",
            "0        1700106    PLANT16           PORT09            808  14.300000  \n",
            "1        1700106    PLANT16           PORT09           3188  87.940000  \n",
            "2        1700106    PLANT16           PORT09           2331  61.200000  \n",
            "3        1700106    PLANT16           PORT09            847  16.160000  \n",
            "4        1700106    PLANT16           PORT09           2163  52.340000  \n",
            "...          ...        ...              ...            ...        ...  \n",
            "9210     1683388    PLANT03           PORT09            339   2.354118  \n",
            "9211     1683388    PLANT03           PORT09            339   2.354118  \n",
            "9212     1683388    PLANT03           PORT09            245   0.294265  \n",
            "9213     1683430    PLANT03           PORT09            278   2.480000  \n",
            "9214     1683424    PLANT03           PORT09            317   1.960000  \n",
            "\n",
            "[9215 rows x 14 columns]\n"
          ]
        }
      ]
    },
    {
      "cell_type": "code",
      "source": [
        "# Output schema of 'fr_df_pd' dataframe\n",
        "print(fr_df_pd.info())"
      ],
      "metadata": {
        "colab": {
          "base_uri": "https://localhost:8080/"
        },
        "id": "xZ8cg-4LcyNw",
        "outputId": "56832b93-7025-4154-f21f-0ebdd462c22f"
      },
      "execution_count": null,
      "outputs": [
        {
          "output_type": "stream",
          "name": "stdout",
          "text": [
            "<class 'pandas.core.frame.DataFrame'>\n",
            "RangeIndex: 1540 entries, 0 to 1539\n",
            "Data columns (total 11 columns):\n",
            " #   Column        Non-Null Count  Dtype  \n",
            "---  ------        --------------  -----  \n",
            " 0   Carrier       1540 non-null   object \n",
            " 1   orig_port_cd  1540 non-null   object \n",
            " 2   dest_port_cd  1540 non-null   object \n",
            " 3   minm_wgh_qty  1540 non-null   float64\n",
            " 4   max_wgh_qty   1540 non-null   float64\n",
            " 5   svc_cd        1540 non-null   object \n",
            " 6   minimum cost  1540 non-null   float64\n",
            " 7   rate          1540 non-null   float64\n",
            " 8   mode_dsc      1540 non-null   object \n",
            " 9   tpt_day_cnt   1540 non-null   int64  \n",
            " 10  Carrier type  1540 non-null   object \n",
            "dtypes: float64(4), int64(1), object(6)\n",
            "memory usage: 132.5+ KB\n",
            "None\n"
          ]
        }
      ]
    },
    {
      "cell_type": "code",
      "source": [
        "# Outputs \"ol_df_pd\" dataframe\n",
        "print(fr_df_pd)"
      ],
      "metadata": {
        "colab": {
          "base_uri": "https://localhost:8080/"
        },
        "id": "HRga89n8SvEo",
        "outputId": "31886805-ff88-4fe4-e736-ebd4b03cdc97"
      },
      "execution_count": null,
      "outputs": [
        {
          "output_type": "stream",
          "name": "stdout",
          "text": [
            "     Carrier orig_port_cd dest_port_cd  minm_wgh_qty  max_wgh_qty svc_cd  \\\n",
            "0     V444_6       PORT08       PORT09         250.0       499.99    DTD   \n",
            "1     V444_6       PORT08       PORT09          65.0        69.99    DTD   \n",
            "2     V444_6       PORT08       PORT09          60.0        64.99    DTD   \n",
            "3     V444_6       PORT08       PORT09          50.0        54.99    DTD   \n",
            "4     V444_6       PORT08       PORT09          35.0        39.99    DTD   \n",
            "...      ...          ...          ...           ...          ...    ...   \n",
            "1535  V444_8       PORT03       PORT09           0.0        99.99    DTD   \n",
            "1536  V444_8       PORT03       PORT09         500.0      1999.99    DTD   \n",
            "1537  V444_8       PORT03       PORT09         250.0       499.99    DTD   \n",
            "1538  V444_8       PORT03       PORT09        2000.0     99999.99    DTD   \n",
            "1539  V444_8       PORT03       PORT09         100.0       249.99    DTD   \n",
            "\n",
            "      minimum cost    rate mode_dsc  tpt_day_cnt Carrier type  \n",
            "0          43.2272  0.7132   AIR               2  V88888888_0  \n",
            "1          43.2272  0.7512   AIR               2  V88888888_0  \n",
            "2          43.2272  0.7892   AIR               2  V88888888_0  \n",
            "3          43.2272  0.8272   AIR               2  V88888888_0  \n",
            "4          43.2272  1.0552   AIR               2  V88888888_0  \n",
            "...            ...     ...      ...          ...          ...  \n",
            "1535       29.3392  0.4116   AIR               0  V88888888_0  \n",
            "1536       29.3392  0.3112   AIR               0  V88888888_0  \n",
            "1537       29.3392  0.4116   AIR               0  V88888888_0  \n",
            "1538       29.3392  0.3112   AIR               0  V88888888_0  \n",
            "1539       29.3392  0.4116   AIR               0  V88888888_0  \n",
            "\n",
            "[1540 rows x 11 columns]\n"
          ]
        }
      ]
    },
    {
      "cell_type": "code",
      "source": [
        "# Schema of dataframe\n",
        "print(wh_costs_df_pd.info())"
      ],
      "metadata": {
        "colab": {
          "base_uri": "https://localhost:8080/"
        },
        "id": "9Zh7-E3Sda-v",
        "outputId": "9e31da22-143a-47ea-baa6-bd8e584cc306"
      },
      "execution_count": null,
      "outputs": [
        {
          "output_type": "stream",
          "name": "stdout",
          "text": [
            "<class 'pandas.core.frame.DataFrame'>\n",
            "RangeIndex: 19 entries, 0 to 18\n",
            "Data columns (total 2 columns):\n",
            " #   Column     Non-Null Count  Dtype  \n",
            "---  ------     --------------  -----  \n",
            " 0   WH         19 non-null     object \n",
            " 1   Cost/unit  19 non-null     float64\n",
            "dtypes: float64(1), object(1)\n",
            "memory usage: 432.0+ bytes\n",
            "None\n"
          ]
        }
      ]
    },
    {
      "cell_type": "code",
      "source": [
        "# Outputs of dataframe\n",
        "print(wh_costs_df_pd)"
      ],
      "metadata": {
        "colab": {
          "base_uri": "https://localhost:8080/"
        },
        "id": "-TPCKQDhWahF",
        "outputId": "870dcefa-ec74-460e-b178-2888ab071ad9"
      },
      "execution_count": null,
      "outputs": [
        {
          "output_type": "stream",
          "name": "stdout",
          "text": [
            "         WH  Cost/unit\n",
            "0   PLANT15   1.415063\n",
            "1   PLANT17   0.428947\n",
            "2   PLANT18   2.036254\n",
            "3   PLANT05   0.488144\n",
            "4   PLANT02   0.477504\n",
            "5   PLANT01   0.566976\n",
            "6   PLANT06   0.554088\n",
            "7   PLANT10   0.493582\n",
            "8   PLANT07   0.371424\n",
            "9   PLANT14   0.634330\n",
            "10  PLANT16   1.919808\n",
            "11  PLANT12   0.773132\n",
            "12  PLANT11   0.555247\n",
            "13  PLANT09   0.465071\n",
            "14  PLANT03   0.517502\n",
            "15  PLANT13   0.469707\n",
            "16  PLANT19   0.639763\n",
            "17  PLANT08   0.522857\n",
            "18  PLANT04   0.428503\n"
          ]
        }
      ]
    },
    {
      "cell_type": "code",
      "source": [
        "# Schema of dataframe\n",
        "print(wh_cap_df_pd.info())"
      ],
      "metadata": {
        "colab": {
          "base_uri": "https://localhost:8080/"
        },
        "id": "DHTl8c6YdgwH",
        "outputId": "214b028d-f26a-43b7-edf5-a23cf4a2048b"
      },
      "execution_count": null,
      "outputs": [
        {
          "output_type": "stream",
          "name": "stdout",
          "text": [
            "<class 'pandas.core.frame.DataFrame'>\n",
            "RangeIndex: 19 entries, 0 to 18\n",
            "Data columns (total 2 columns):\n",
            " #   Column           Non-Null Count  Dtype \n",
            "---  ------           --------------  ----- \n",
            " 0   Plant ID         19 non-null     object\n",
            " 1   Daily Capacity   19 non-null     int64 \n",
            "dtypes: int64(1), object(1)\n",
            "memory usage: 432.0+ bytes\n",
            "None\n"
          ]
        }
      ]
    },
    {
      "cell_type": "code",
      "source": [
        "# Outputs of dataframe\n",
        "print(wh_cap_df_pd)"
      ],
      "metadata": {
        "colab": {
          "base_uri": "https://localhost:8080/"
        },
        "id": "iSDsfHq7WaZV",
        "outputId": "ea4ab752-e791-4fd6-8758-b2ea18c8022f"
      },
      "execution_count": null,
      "outputs": [
        {
          "output_type": "stream",
          "name": "stdout",
          "text": [
            "   Plant ID  Daily Capacity \n",
            "0   PLANT15               11\n",
            "1   PLANT17                8\n",
            "2   PLANT18              111\n",
            "3   PLANT05              385\n",
            "4   PLANT02              138\n",
            "5   PLANT01             1070\n",
            "6   PLANT06               49\n",
            "7   PLANT10              118\n",
            "8   PLANT07              265\n",
            "9   PLANT14              549\n",
            "10  PLANT16              457\n",
            "11  PLANT12              209\n",
            "12  PLANT11              332\n",
            "13  PLANT09               11\n",
            "14  PLANT03             1013\n",
            "15  PLANT13              490\n",
            "16  PLANT19                7\n",
            "17  PLANT08               14\n",
            "18  PLANT04              554\n"
          ]
        }
      ]
    },
    {
      "cell_type": "code",
      "source": [
        "# Schema of dataframe\n",
        "print(ppp_df_pd.info())"
      ],
      "metadata": {
        "colab": {
          "base_uri": "https://localhost:8080/"
        },
        "id": "QSAJ6kbLdoOq",
        "outputId": "ee5673f7-35b0-432c-b6eb-894d03ef6e71"
      },
      "execution_count": null,
      "outputs": [
        {
          "output_type": "stream",
          "name": "stdout",
          "text": [
            "<class 'pandas.core.frame.DataFrame'>\n",
            "RangeIndex: 2036 entries, 0 to 2035\n",
            "Data columns (total 2 columns):\n",
            " #   Column      Non-Null Count  Dtype \n",
            "---  ------      --------------  ----- \n",
            " 0   Plant Code  2036 non-null   object\n",
            " 1   Product ID  2036 non-null   int64 \n",
            "dtypes: int64(1), object(1)\n",
            "memory usage: 31.9+ KB\n",
            "None\n"
          ]
        }
      ]
    },
    {
      "cell_type": "code",
      "source": [
        "# Outputs of dataframe\n",
        "print(ppp_df_pd)"
      ],
      "metadata": {
        "colab": {
          "base_uri": "https://localhost:8080/"
        },
        "id": "MJUUwFEJWaRK",
        "outputId": "95c9c7c3-f561-4f42-be8b-398db2fd637d"
      },
      "execution_count": null,
      "outputs": [
        {
          "output_type": "stream",
          "name": "stdout",
          "text": [
            "     Plant Code  Product ID\n",
            "0       PLANT15     1698815\n",
            "1       PLANT17     1664419\n",
            "2       PLANT17     1664426\n",
            "3       PLANT17     1672826\n",
            "4       PLANT17     1674916\n",
            "...         ...         ...\n",
            "2031    PLANT04     1699951\n",
            "2032    PLANT04     1699952\n",
            "2033    PLANT04     1699953\n",
            "2034    PLANT04     1699954\n",
            "2035    PLANT04     1699974\n",
            "\n",
            "[2036 rows x 2 columns]\n"
          ]
        }
      ]
    },
    {
      "cell_type": "code",
      "source": [
        "# Schema of dataframe\n",
        "print(vc_df_pd.info())"
      ],
      "metadata": {
        "colab": {
          "base_uri": "https://localhost:8080/"
        },
        "id": "E03Lelhpd61v",
        "outputId": "062986f9-a8e5-438b-a3f2-4a7ec8c858d5"
      },
      "execution_count": null,
      "outputs": [
        {
          "output_type": "stream",
          "name": "stdout",
          "text": [
            "<class 'pandas.core.frame.DataFrame'>\n",
            "RangeIndex: 14 entries, 0 to 13\n",
            "Data columns (total 2 columns):\n",
            " #   Column      Non-Null Count  Dtype \n",
            "---  ------      --------------  ----- \n",
            " 0   Plant Code  14 non-null     object\n",
            " 1   Customers   14 non-null     object\n",
            "dtypes: object(2)\n",
            "memory usage: 352.0+ bytes\n",
            "None\n"
          ]
        }
      ]
    },
    {
      "cell_type": "code",
      "source": [
        "# Outputs of dataframe\n",
        "print(vc_df_pd)"
      ],
      "metadata": {
        "colab": {
          "base_uri": "https://localhost:8080/"
        },
        "id": "7sX4ofS5WZ8F",
        "outputId": "6621296c-d3d7-4e28-8f92-9d6aabcc6dd6"
      },
      "execution_count": null,
      "outputs": [
        {
          "output_type": "stream",
          "name": "stdout",
          "text": [
            "   Plant Code                Customers\n",
            "0     PLANT02        V5555555555555_16\n",
            "1     PLANT02      V555555555555555_29\n",
            "2     PLANT02             V555555555_3\n",
            "3     PLANT02        V55555555555555_8\n",
            "4     PLANT02              V55555555_9\n",
            "5     PLANT02                V55555_10\n",
            "6     PLANT02              V55555555_5\n",
            "7     PLANT06      V555555555555555_18\n",
            "8     PLANT06                V55555_10\n",
            "9     PLANT10      V555555555555555_29\n",
            "10    PLANT10               V555555_34\n",
            "11    PLANT10  V5555555555555555555_54\n",
            "12    PLANT10                V55555_10\n",
            "13    PLANT11  V5555555555555555555_54\n"
          ]
        }
      ]
    },
    {
      "cell_type": "code",
      "source": [
        "# Schema of dataframe\n",
        "print(plant_ports_df_pd.info())"
      ],
      "metadata": {
        "colab": {
          "base_uri": "https://localhost:8080/"
        },
        "id": "lX_gKtNXeBzH",
        "outputId": "a3d90d11-2ce1-46ca-f539-8bba2c2ec0ef"
      },
      "execution_count": null,
      "outputs": [
        {
          "output_type": "stream",
          "name": "stdout",
          "text": [
            "<class 'pandas.core.frame.DataFrame'>\n",
            "RangeIndex: 22 entries, 0 to 21\n",
            "Data columns (total 2 columns):\n",
            " #   Column      Non-Null Count  Dtype \n",
            "---  ------      --------------  ----- \n",
            " 0   Plant Code  22 non-null     object\n",
            " 1   Port        22 non-null     object\n",
            "dtypes: object(2)\n",
            "memory usage: 480.0+ bytes\n",
            "None\n"
          ]
        }
      ]
    },
    {
      "cell_type": "code",
      "source": [
        "# Outputs of dataframe\n",
        "print(plant_ports_df_pd)"
      ],
      "metadata": {
        "colab": {
          "base_uri": "https://localhost:8080/"
        },
        "id": "kq8vDtd2WZy3",
        "outputId": "50e1e68c-83a5-4340-be2a-4318d756a03b"
      },
      "execution_count": null,
      "outputs": [
        {
          "output_type": "stream",
          "name": "stdout",
          "text": [
            "   Plant Code    Port\n",
            "0     PLANT01  PORT01\n",
            "1     PLANT01  PORT02\n",
            "2     PLANT02  PORT03\n",
            "3     PLANT03  PORT04\n",
            "4     PLANT04  PORT05\n",
            "5     PLANT05  PORT06\n",
            "6     PLANT06  PORT06\n",
            "7     PLANT07  PORT01\n",
            "8     PLANT07  PORT02\n",
            "9     PLANT08  PORT04\n",
            "10    PLANT09  PORT04\n",
            "11    PLANT10  PORT01\n",
            "12    PLANT10  PORT02\n",
            "13    PLANT11  PORT04\n",
            "14    PLANT12  PORT04\n",
            "15    PLANT13  PORT04\n",
            "16    PLANT14  PORT07\n",
            "17    PLANT15  PORT08\n",
            "18    PLANT16  PORT09\n",
            "19    PLANT17  PORT10\n",
            "20    PLANT18  PORT11\n",
            "21    PLANT19  PORT04\n"
          ]
        }
      ]
    },
    {
      "cell_type": "code",
      "source": [
        "# ol_df = df_pd.get('OrderList')\n",
        "# fr_df = df_pd.get('FreightRates')\n",
        "# wh_costs_df= df_pd.get('WhCosts')\n",
        "# wh_cap_df= df_pd.get('WhCapacities')\n",
        "# ppp_df= df_pd.get('ProductsPerPlant')\n",
        "# vc_df= df_pd.get('VmiCustomers')\n",
        "# plant_ports_df= df_pd.get('PlantPorts')"
      ],
      "metadata": {
        "id": "kZ9t4jRoW1qN"
      },
      "execution_count": null,
      "outputs": []
    },
    {
      "cell_type": "code",
      "source": [
        "# Convert Pandas dataframe to Spark dataframe\n",
        "df_spark_ol = spark.createDataFrame(ol_df_pd)\n",
        "df_spark_fr = spark.createDataFrame(fr_df_pd)\n",
        "df_spark_whCosts = spark.createDataFrame(wh_costs_df_pd)\n",
        "df_spark_whCap = spark.createDataFrame(wh_cap_df_pd)\n",
        "df_spark_ppp = spark.createDataFrame(ppp_df_pd)\n",
        "df_spark_vc = spark.createDataFrame(vc_df_pd)\n",
        "df_spark_plant_ports = spark.createDataFrame(plant_ports_df_pd)"
      ],
      "metadata": {
        "colab": {
          "base_uri": "https://localhost:8080/"
        },
        "id": "KQg6p2CZIl10",
        "outputId": "de565611-c7d2-4c99-e004-439788c85830"
      },
      "execution_count": null,
      "outputs": [
        {
          "output_type": "stream",
          "name": "stderr",
          "text": [
            "/content/spark-3.0.2-bin-hadoop3.2/python/pyspark/sql/pandas/conversion.py:327: FutureWarning: iteritems is deprecated and will be removed in a future version. Use .items instead.\n",
            "  for column, series in pdf.iteritems():\n"
          ]
        }
      ]
    },
    {
      "cell_type": "markdown",
      "source": [
        "_______________________________________________________________________________"
      ],
      "metadata": {
        "id": "Bl2u1dezSQb5"
      }
    },
    {
      "cell_type": "markdown",
      "source": [
        "# Outputting converted **Pandas dataframe** to **Spark dataframe**"
      ],
      "metadata": {
        "id": "0WmrflYVel0s"
      }
    },
    {
      "cell_type": "code",
      "source": [
        "df_spark_ol.show()"
      ],
      "metadata": {
        "colab": {
          "base_uri": "https://localhost:8080/"
        },
        "id": "VmvyjFmuNRDE",
        "outputId": "63aed155-b47a-4c84-be18-81104b224e50"
      },
      "execution_count": null,
      "outputs": [
        {
          "output_type": "stream",
          "name": "stdout",
          "text": [
            "+--------------+-------------------+-----------+-------+---+-------------+--------------------+-------------------+---------+----------+----------+----------------+-------------+-----------------+\n",
            "|      Order ID|         Order Date|Origin Port|Carrier|TPT|Service Level|Ship ahead day count|Ship Late Day count| Customer|Product ID|Plant Code|Destination Port|Unit quantity|           Weight|\n",
            "+--------------+-------------------+-----------+-------+---+-------------+--------------------+-------------------+---------+----------+----------+----------------+-------------+-----------------+\n",
            "|1.4472964467E9|2013-05-26 00:00:00|     PORT09|  V44_3|  1|          CRF|                   3|                  0|V55555_53|   1700106|   PLANT16|          PORT09|          808|             14.3|\n",
            "|1.4471580147E9|2013-05-26 00:00:00|     PORT09|  V44_3|  1|          CRF|                   3|                  0|V55555_53|   1700106|   PLANT16|          PORT09|         3188|            87.94|\n",
            "|1.4471388987E9|2013-05-26 00:00:00|     PORT09|  V44_3|  1|          CRF|                   3|                  0|V55555_53|   1700106|   PLANT16|          PORT09|         2331|             61.2|\n",
            "|1.4473635277E9|2013-05-26 00:00:00|     PORT09|  V44_3|  1|          CRF|                   3|                  0|V55555_53|   1700106|   PLANT16|          PORT09|          847|            16.16|\n",
            "|1.4473639807E9|2013-05-26 00:00:00|     PORT09|  V44_3|  1|          CRF|                   3|                  0|V55555_53|   1700106|   PLANT16|          PORT09|         2163|            52.34|\n",
            "|1.4473514407E9|2013-05-26 00:00:00|     PORT09|  V44_3|  1|          CRF|                   3|                  0|V55555_53|   1700106|   PLANT16|          PORT09|         3332|             92.8|\n",
            "|1.4473202357E9|2013-05-26 00:00:00|     PORT09|  V44_3|  1|          CRF|                   3|                  0|V55555_53|   1700106|   PLANT16|          PORT09|         1782|             46.9|\n",
            "|1.4471580187E9|2013-05-26 00:00:00|     PORT09|  V44_3|  1|          CRF|                   3|                  0|V55555_53|   1700106|   PLANT16|          PORT09|          427|             2.86|\n",
            "|1.4472193407E9|2013-05-26 00:00:00|     PORT09|  V44_3|  1|          CRF|                   3|                  0|V55555_53|   1700106|   PLANT16|          PORT09|         1291|             26.6|\n",
            "|1.4473984157E9|2013-05-26 00:00:00|     PORT09|  V44_3|  1|          CRF|                   3|                  0|V55555_53|   1700106|   PLANT16|          PORT09|         2294|             62.2|\n",
            "|1.4473816787E9|2013-05-26 00:00:00|     PORT09|  V44_3|  1|          CRF|                   3|                  0|V55555_53|   1700106|   PLANT16|          PORT09|         2766|             75.5|\n",
            "|1.4471707847E9|2013-05-26 00:00:00|     PORT09|  V44_3|  1|          CRF|                   3|                  0|V55555_53|   1700106|   PLANT16|          PORT09|          798|             14.3|\n",
            "|1.4471550557E9|2013-05-26 00:00:00|     PORT09|  V44_3|  1|          CRF|                   3|                  0|V55555_53|   1697884|   PLANT16|          PORT09|          739|             73.9|\n",
            "|1.4472572647E9|2013-05-26 00:00:00|     PORT09|  V44_3|  1|          CRF|                   3|                  0|V55555_53|   1697884|   PLANT16|          PORT09|          280|7.800000000000001|\n",
            "|1.4472409887E9|2013-05-26 00:00:00|     PORT09|  V44_3|  1|          CRF|                   3|                  0|V55555_53|   1697884|   PLANT16|          PORT09|          574|             59.5|\n",
            "|1.4472572307E9|2013-05-26 00:00:00|     PORT09|  V44_3|  1|          CRF|                   3|                  0|V55555_53|   1697884|   PLANT16|          PORT09|          556|             52.7|\n",
            "|1.4472606527E9|2013-05-26 00:00:00|     PORT09|  V44_3|  1|          CRF|                   3|                  0|V55555_53|   1697884|   PLANT16|          PORT09|          544|             58.5|\n",
            "|1.4471393747E9|2013-05-26 00:00:00|     PORT09|  V44_3|  1|          CRF|                   3|                  0|V55555_53|   1697884|   PLANT16|          PORT09|         1151|            181.7|\n",
            "|1.4473085897E9|2013-05-26 00:00:00|     PORT09|  V44_3|  1|          CRF|                   3|                  0|V55555_53|   1697884|   PLANT16|          PORT09|         1404|            227.2|\n",
            "|1.4471912707E9|2013-05-26 00:00:00|     PORT09|  V44_3|  1|          CRF|                   3|                  0|V55555_53|   1697884|   PLANT16|          PORT09|          662|             74.1|\n",
            "+--------------+-------------------+-----------+-------+---+-------------+--------------------+-------------------+---------+----------+----------+----------------+-------------+-----------------+\n",
            "only showing top 20 rows\n",
            "\n"
          ]
        }
      ]
    },
    {
      "cell_type": "code",
      "source": [
        "df_spark_fr.show()"
      ],
      "metadata": {
        "id": "oPtMExZlUXLt",
        "colab": {
          "base_uri": "https://localhost:8080/"
        },
        "outputId": "39c7162c-2e48-4d41-ed36-a93786f932f9"
      },
      "execution_count": null,
      "outputs": [
        {
          "output_type": "stream",
          "name": "stdout",
          "text": [
            "+-------+------------+------------+------------+-----------+------+------------------+------------------+--------+-----------+------------+\n",
            "|Carrier|orig_port_cd|dest_port_cd|minm_wgh_qty|max_wgh_qty|svc_cd|      minimum cost|              rate|mode_dsc|tpt_day_cnt|Carrier type|\n",
            "+-------+------------+------------+------------+-----------+------+------------------+------------------+--------+-----------+------------+\n",
            "| V444_6|      PORT08|      PORT09|       250.0|     499.99|   DTD|43.227199999999996|            0.7132|  AIR   |          2| V88888888_0|\n",
            "| V444_6|      PORT08|      PORT09|        65.0|      69.99|   DTD|43.227199999999996|0.7512000000000001|  AIR   |          2| V88888888_0|\n",
            "| V444_6|      PORT08|      PORT09|        60.0|      64.99|   DTD|43.227199999999996|            0.7892|  AIR   |          2| V88888888_0|\n",
            "| V444_6|      PORT08|      PORT09|        50.0|      54.99|   DTD|43.227199999999996|0.8271999999999999|  AIR   |          2| V88888888_0|\n",
            "| V444_6|      PORT08|      PORT09|        35.0|      39.99|   DTD|43.227199999999996|            1.0552|  AIR   |          2| V88888888_0|\n",
            "| V444_6|      PORT08|      PORT09|       100.0|     249.99|   DTD|43.227199999999996|            0.7132|  AIR   |          2| V88888888_0|\n",
            "| V444_6|      PORT08|      PORT09|       500.0|    1999.99|   DTD|43.227199999999996|0.6751999999999999|  AIR   |          2| V88888888_0|\n",
            "| V444_6|      PORT08|      PORT09|        55.0|      59.99|   DTD|43.227199999999996|0.8271999999999999|  AIR   |          2| V88888888_0|\n",
            "| V444_6|      PORT08|      PORT09|        25.0|      29.99|   DTD|43.227199999999996|1.2451999999999999|  AIR   |          2| V88888888_0|\n",
            "| V444_6|      PORT08|      PORT09|        30.0|      34.99|   DTD|43.227199999999996|            1.1312|  AIR   |          2| V88888888_0|\n",
            "| V444_6|      PORT08|      PORT09|        70.0|      99.99|   DTD|43.227199999999996|0.7512000000000001|  AIR   |          2| V88888888_0|\n",
            "| V444_6|      PORT08|      PORT09|        10.0|      14.99|   DTD|43.227199999999996|            1.8272|  AIR   |          2| V88888888_0|\n",
            "| V444_6|      PORT08|      PORT09|         0.0|       4.99|   DTD|43.227199999999996|            1.8272|  AIR   |          2| V88888888_0|\n",
            "| V444_6|      PORT08|      PORT09|         5.0|       9.99|   DTD|43.227199999999996|            1.8272|  AIR   |          2| V88888888_0|\n",
            "| V444_6|      PORT08|      PORT09|      2000.0|   99999.99|   DTD|43.227199999999996|            0.6372|  AIR   |          2| V88888888_0|\n",
            "| V444_6|      PORT08|      PORT09|        45.0|      49.99|   DTD|43.227199999999996|            0.9412|  AIR   |          2| V88888888_0|\n",
            "| V444_6|      PORT08|      PORT09|        20.0|      24.99|   DTD|43.227199999999996|1.3212000000000002|  AIR   |          2| V88888888_0|\n",
            "| V444_6|      PORT08|      PORT09|        40.0|      44.99|   DTD|43.227199999999996|0.9792000000000001|  AIR   |          2| V88888888_0|\n",
            "| V444_6|      PORT08|      PORT09|        15.0|      19.99|   DTD|43.227199999999996|            1.5872|  AIR   |          2| V88888888_0|\n",
            "| V444_6|      PORT10|      PORT09|        65.0|      69.99|   DTD|43.227199999999996|0.7512000000000001|  AIR   |          2| V88888888_0|\n",
            "+-------+------------+------------+------------+-----------+------+------------------+------------------+--------+-----------+------------+\n",
            "only showing top 20 rows\n",
            "\n"
          ]
        }
      ]
    },
    {
      "cell_type": "code",
      "source": [
        "# df_spark_ol\n",
        "# df_spark_fr\n",
        "# df_spark_whCosts\n",
        "# df_spark_whCap\n",
        "# df_spark_ppp\n",
        "# df_spark_vc\n",
        "# df_spark_plant_ports"
      ],
      "metadata": {
        "id": "_fegdiFIYIiS"
      },
      "execution_count": null,
      "outputs": []
    },
    {
      "cell_type": "code",
      "source": [
        "df_spark_whCosts.show()"
      ],
      "metadata": {
        "colab": {
          "base_uri": "https://localhost:8080/"
        },
        "id": "wNysjMKhYHa2",
        "outputId": "247f63df-3131-422e-a068-4077fd61b7e8"
      },
      "execution_count": null,
      "outputs": [
        {
          "output_type": "stream",
          "name": "stdout",
          "text": [
            "+-------+-------------------+\n",
            "|     WH|          Cost/unit|\n",
            "+-------+-------------------+\n",
            "|PLANT15| 1.4150633766876566|\n",
            "|PLANT17|0.42894658708921174|\n",
            "|PLANT18| 2.0362537598033468|\n",
            "|PLANT05|0.48814438452738274|\n",
            "|PLANT02| 0.4775035189272224|\n",
            "|PLANT01| 0.5669761849295618|\n",
            "|PLANT06| 0.5540880976257885|\n",
            "|PLANT10| 0.4935818984829453|\n",
            "|PLANT07|  0.371423937425446|\n",
            "|PLANT14| 0.6343297377046666|\n",
            "|PLANT16| 1.9198075078524335|\n",
            "|PLANT12| 0.7731317943178858|\n",
            "|PLANT11| 0.5552472904512042|\n",
            "|PLANT09|0.46507109738293506|\n",
            "|PLANT03| 0.5175018916254618|\n",
            "|PLANT13|0.46970705658151307|\n",
            "|PLANT19| 0.6397625198174935|\n",
            "|PLANT08| 0.5228572991962216|\n",
            "|PLANT04|0.42850329514821733|\n",
            "+-------+-------------------+\n",
            "\n"
          ]
        }
      ]
    },
    {
      "cell_type": "code",
      "source": [
        "df_spark_whCap.show()"
      ],
      "metadata": {
        "colab": {
          "base_uri": "https://localhost:8080/"
        },
        "id": "nwLZk_RDYHNG",
        "outputId": "0e1a7771-5682-49e6-c0cd-3ab20817a51e"
      },
      "execution_count": null,
      "outputs": [
        {
          "output_type": "stream",
          "name": "stdout",
          "text": [
            "+--------+---------------+\n",
            "|Plant ID|Daily Capacity |\n",
            "+--------+---------------+\n",
            "| PLANT15|             11|\n",
            "| PLANT17|              8|\n",
            "| PLANT18|            111|\n",
            "| PLANT05|            385|\n",
            "| PLANT02|            138|\n",
            "| PLANT01|           1070|\n",
            "| PLANT06|             49|\n",
            "| PLANT10|            118|\n",
            "| PLANT07|            265|\n",
            "| PLANT14|            549|\n",
            "| PLANT16|            457|\n",
            "| PLANT12|            209|\n",
            "| PLANT11|            332|\n",
            "| PLANT09|             11|\n",
            "| PLANT03|           1013|\n",
            "| PLANT13|            490|\n",
            "| PLANT19|              7|\n",
            "| PLANT08|             14|\n",
            "| PLANT04|            554|\n",
            "+--------+---------------+\n",
            "\n"
          ]
        }
      ]
    },
    {
      "cell_type": "code",
      "source": [
        "df_spark_ppp.show()"
      ],
      "metadata": {
        "colab": {
          "base_uri": "https://localhost:8080/"
        },
        "id": "Gi2yrfoHYHFh",
        "outputId": "29dcbd13-93ec-4cd2-aeb2-628d139ff8e1"
      },
      "execution_count": null,
      "outputs": [
        {
          "output_type": "stream",
          "name": "stdout",
          "text": [
            "+----------+----------+\n",
            "|Plant Code|Product ID|\n",
            "+----------+----------+\n",
            "|   PLANT15|   1698815|\n",
            "|   PLANT17|   1664419|\n",
            "|   PLANT17|   1664426|\n",
            "|   PLANT17|   1672826|\n",
            "|   PLANT17|   1674916|\n",
            "|   PLANT17|   1674918|\n",
            "|   PLANT17|   1675507|\n",
            "|   PLANT17|   1676151|\n",
            "|   PLANT17|   1676152|\n",
            "|   PLANT17|   1677864|\n",
            "|   PLANT17|   1677865|\n",
            "|   PLANT17|   1679124|\n",
            "|   PLANT17|   1685369|\n",
            "|   PLANT17|   1685370|\n",
            "|   PLANT17|   1685378|\n",
            "|   PLANT17|   1685979|\n",
            "|   PLANT17|   1691969|\n",
            "|   PLANT17|   1694139|\n",
            "|   PLANT17|   1694217|\n",
            "|   PLANT17|   1696107|\n",
            "+----------+----------+\n",
            "only showing top 20 rows\n",
            "\n"
          ]
        }
      ]
    },
    {
      "cell_type": "code",
      "source": [
        "df_spark_vc.show()"
      ],
      "metadata": {
        "colab": {
          "base_uri": "https://localhost:8080/"
        },
        "id": "yoczA4QFYGr7",
        "outputId": "1b7bc82a-ca70-4643-9b2e-d762558ecfcb"
      },
      "execution_count": null,
      "outputs": [
        {
          "output_type": "stream",
          "name": "stdout",
          "text": [
            "+----------+--------------------+\n",
            "|Plant Code|           Customers|\n",
            "+----------+--------------------+\n",
            "|   PLANT02|   V5555555555555_16|\n",
            "|   PLANT02| V555555555555555_29|\n",
            "|   PLANT02|        V555555555_3|\n",
            "|   PLANT02|   V55555555555555_8|\n",
            "|   PLANT02|         V55555555_9|\n",
            "|   PLANT02|           V55555_10|\n",
            "|   PLANT02|         V55555555_5|\n",
            "|   PLANT06| V555555555555555_18|\n",
            "|   PLANT06|           V55555_10|\n",
            "|   PLANT10| V555555555555555_29|\n",
            "|   PLANT10|          V555555_34|\n",
            "|   PLANT10|V5555555555555555...|\n",
            "|   PLANT10|           V55555_10|\n",
            "|   PLANT11|V5555555555555555...|\n",
            "+----------+--------------------+\n",
            "\n"
          ]
        }
      ]
    },
    {
      "cell_type": "code",
      "source": [
        "df_spark_plant_ports.show()"
      ],
      "metadata": {
        "colab": {
          "base_uri": "https://localhost:8080/"
        },
        "id": "EdEEFDihYGgQ",
        "outputId": "794516b5-618a-4cae-953e-33dd4076e4d1"
      },
      "execution_count": null,
      "outputs": [
        {
          "output_type": "stream",
          "name": "stdout",
          "text": [
            "+----------+------+\n",
            "|Plant Code|  Port|\n",
            "+----------+------+\n",
            "|   PLANT01|PORT01|\n",
            "|   PLANT01|PORT02|\n",
            "|   PLANT02|PORT03|\n",
            "|   PLANT03|PORT04|\n",
            "|   PLANT04|PORT05|\n",
            "|   PLANT05|PORT06|\n",
            "|   PLANT06|PORT06|\n",
            "|   PLANT07|PORT01|\n",
            "|   PLANT07|PORT02|\n",
            "|   PLANT08|PORT04|\n",
            "|   PLANT09|PORT04|\n",
            "|   PLANT10|PORT01|\n",
            "|   PLANT10|PORT02|\n",
            "|   PLANT11|PORT04|\n",
            "|   PLANT12|PORT04|\n",
            "|   PLANT13|PORT04|\n",
            "|   PLANT14|PORT07|\n",
            "|   PLANT15|PORT08|\n",
            "|   PLANT16|PORT09|\n",
            "|   PLANT17|PORT10|\n",
            "+----------+------+\n",
            "only showing top 20 rows\n",
            "\n"
          ]
        }
      ]
    },
    {
      "cell_type": "markdown",
      "source": [
        "_______________________________________________________________________________"
      ],
      "metadata": {
        "id": "tXSFWLMxSOEx"
      }
    },
    {
      "cell_type": "markdown",
      "source": [
        "# **Summary statistics of each Spark dataframe (before data quality checks)**"
      ],
      "metadata": {
        "id": "Gfc8x8zSfjAz"
      }
    },
    {
      "cell_type": "markdown",
      "source": [
        "#####1. Order List"
      ],
      "metadata": {
        "id": "3i3HoKKZf4In"
      }
    },
    {
      "cell_type": "code",
      "source": [
        "df_spark_ol.describe().show()"
      ],
      "metadata": {
        "id": "5vyhxoEAYs_Z",
        "colab": {
          "base_uri": "https://localhost:8080/"
        },
        "outputId": "e803e27c-2e74-4c66-967a-e9c76b23ebd7"
      },
      "execution_count": null,
      "outputs": [
        {
          "output_type": "stream",
          "name": "stdout",
          "text": [
            "+-------+--------------------+-----------+-------+------------------+-------------+--------------------+-------------------+--------------------+------------------+----------+----------------+------------------+------------------+\n",
            "|summary|            Order ID|Origin Port|Carrier|               TPT|Service Level|Ship ahead day count|Ship Late Day count|            Customer|        Product ID|Plant Code|Destination Port|     Unit quantity|            Weight|\n",
            "+-------+--------------------+-----------+-------+------------------+-------------+--------------------+-------------------+--------------------+------------------+----------+----------------+------------------+------------------+\n",
            "|  count|                9215|       9215|   9215|              9215|         9215|                9215|               9215|                9215|              9215|      9215|            9215|              9215|              9215|\n",
            "|   mean|1.4472736988818884E9|       null|   null|1.7177428106348345|         null|  1.8523060227889312|0.03993488876831253|                null|1680536.0587086272|      null|            null|3202.7471513836135|19.871687522977194|\n",
            "| stddev|   83816.29278963484|       null|   null|0.6305004584754466|         null|  1.9223020355302523|0.31962507219200176|                null|15265.927777871273|      null|            null|15965.622259748177| 66.56906366054258|\n",
            "|    min|      1.4471258057E9|     PORT04| V444_0|                 0|          CRF|                   0|                  0|V5555555555555555...|           1613321|   PLANT03|          PORT09|               235|               0.0|\n",
            "|    max|      1.4474252307E9|     PORT09|  V44_3|                 4|          DTP|                   6|                  6|              V55_47|           1702654|   PLANT16|          PORT09|            561847|2338.4051259623893|\n",
            "+-------+--------------------+-----------+-------+------------------+-------------+--------------------+-------------------+--------------------+------------------+----------+----------------+------------------+------------------+\n",
            "\n"
          ]
        }
      ]
    },
    {
      "cell_type": "markdown",
      "source": [
        "#####2. Freight Reights\n"
      ],
      "metadata": {
        "id": "wBgjCMXbgMmc"
      }
    },
    {
      "cell_type": "code",
      "source": [
        "df_spark_fr.describe().show()"
      ],
      "metadata": {
        "id": "8voUdiVHYt_m",
        "colab": {
          "base_uri": "https://localhost:8080/"
        },
        "outputId": "3cde08dc-afd4-455f-ad32-3a8c74bdb1f2"
      },
      "execution_count": null,
      "outputs": [
        {
          "output_type": "stream",
          "name": "stdout",
          "text": [
            "+-------+-------+------------+------------+------------------+------------------+------+------------------+------------------+--------+------------------+------------+\n",
            "|summary|Carrier|orig_port_cd|dest_port_cd|      minm_wgh_qty|       max_wgh_qty|svc_cd|      minimum cost|              rate|mode_dsc|       tpt_day_cnt|Carrier type|\n",
            "+-------+-------+------------+------------+------------------+------------------+------+------------------+------------------+--------+------------------+------------+\n",
            "|  count|   1540|        1540|        1540|              1540|              1540|  1540|              1540|              1540|    1540|              1540|        1540|\n",
            "|   mean|   null|        null|        null|155.88663687532483|  4636.14363302864|  null|12.329032711688322|  2.89265585697203|    null|2.1863636363636365|        null|\n",
            "| stddev|   null|        null|        null| 475.9520491625025|20251.309727377837|  null|22.946192320029418| 4.603877372494976|    null|2.0008954519721818|        null|\n",
            "|    min| V444_0|      PORT02|      PORT09|               0.0|          0.453592|   DTD|             1.202|            0.0332|  AIR   |                 0|V888888883_1|\n",
            "|    max| V444_9|      PORT11|      PORT09|           10000.0|          99999.99|   DTP|          425.0272|128.02720000000002|  GROUND|                14| V88888888_0|\n",
            "+-------+-------+------------+------------+------------------+------------------+------+------------------+------------------+--------+------------------+------------+\n",
            "\n"
          ]
        }
      ]
    },
    {
      "cell_type": "markdown",
      "source": [
        "#####3. Weight Costs"
      ],
      "metadata": {
        "id": "g0CDf3eAgTHi"
      }
    },
    {
      "cell_type": "code",
      "source": [
        "df_spark_whCosts.describe().show()"
      ],
      "metadata": {
        "id": "UhT_VKtyYt7W",
        "colab": {
          "base_uri": "https://localhost:8080/"
        },
        "outputId": "9e69e4f2-aa9e-4bff-eb0c-e3ccc0189191"
      },
      "execution_count": null,
      "outputs": [
        {
          "output_type": "stream",
          "name": "stdout",
          "text": [
            "+-------+-------+-------------------+\n",
            "|summary|     WH|          Cost/unit|\n",
            "+-------+-------+-------------------+\n",
            "|  count|     19|                 19|\n",
            "|   mean|   null| 0.7241000650303471|\n",
            "| stddev|   null|0.49509051350306943|\n",
            "|    min|PLANT01|  0.371423937425446|\n",
            "|    max|PLANT19| 2.0362537598033468|\n",
            "+-------+-------+-------------------+\n",
            "\n"
          ]
        }
      ]
    },
    {
      "cell_type": "markdown",
      "source": [
        "#####4. Weight Capacities"
      ],
      "metadata": {
        "id": "sawnyay4gYV0"
      }
    },
    {
      "cell_type": "code",
      "source": [
        "df_spark_whCap.describe().show()"
      ],
      "metadata": {
        "id": "QpTf6ZjGYt4G",
        "colab": {
          "base_uri": "https://localhost:8080/"
        },
        "outputId": "e7d10992-1c4c-41a9-e3c1-638c12acef6d"
      },
      "execution_count": null,
      "outputs": [
        {
          "output_type": "stream",
          "name": "stdout",
          "text": [
            "+-------+--------+-----------------+\n",
            "|summary|Plant ID|  Daily Capacity |\n",
            "+-------+--------+-----------------+\n",
            "|  count|      19|               19|\n",
            "|   mean|    null|304.7894736842105|\n",
            "| stddev|    null| 323.513279642835|\n",
            "|    min| PLANT01|                7|\n",
            "|    max| PLANT19|             1070|\n",
            "+-------+--------+-----------------+\n",
            "\n"
          ]
        }
      ]
    },
    {
      "cell_type": "markdown",
      "source": [
        "#####5. Products per Plant"
      ],
      "metadata": {
        "id": "9fuOq232garY"
      }
    },
    {
      "cell_type": "code",
      "source": [
        "df_spark_ppp.describe().show()"
      ],
      "metadata": {
        "id": "QBX7lp0ygcW1",
        "colab": {
          "base_uri": "https://localhost:8080/"
        },
        "outputId": "c7b9a696-4fc6-4ac5-95b6-0cdbc3c200dc"
      },
      "execution_count": null,
      "outputs": [
        {
          "output_type": "stream",
          "name": "stdout",
          "text": [
            "+-------+----------+------------------+\n",
            "|summary|Plant Code|        Product ID|\n",
            "+-------+----------+------------------+\n",
            "|  count|      2036|              2036|\n",
            "|   mean|      null|1684179.8860510807|\n",
            "| stddev|      null|13148.043792194074|\n",
            "|    min|      CND9|           1613321|\n",
            "|    max|   PLANT18|           1702654|\n",
            "+-------+----------+------------------+\n",
            "\n"
          ]
        }
      ]
    },
    {
      "cell_type": "markdown",
      "source": [
        "### **Ran summary statistics for the below 2 dataframes for the sake of completion, although it's actually incorrect. As the entities of the dataframe attributes represent qualitative data, hence the null values**"
      ],
      "metadata": {
        "id": "FUBHYqSLotC4"
      }
    },
    {
      "cell_type": "markdown",
      "source": [
        "#####6. Vendor-Managed Inventory Customers (Vmi)"
      ],
      "metadata": {
        "id": "PpYey65Ngfhb"
      }
    },
    {
      "cell_type": "code",
      "source": [
        "df_spark_vc.describe().show()"
      ],
      "metadata": {
        "id": "tjqCezkCghEw",
        "colab": {
          "base_uri": "https://localhost:8080/"
        },
        "outputId": "ec743b63-d162-4dd5-d622-5f0f0a0e8617"
      },
      "execution_count": null,
      "outputs": [
        {
          "output_type": "stream",
          "name": "stdout",
          "text": [
            "+-------+----------+--------------------+\n",
            "|summary|Plant Code|           Customers|\n",
            "+-------+----------+--------------------+\n",
            "|  count|        14|                  14|\n",
            "|   mean|      null|                null|\n",
            "| stddev|      null|                null|\n",
            "|    min|   PLANT02|V5555555555555555...|\n",
            "|    max|   PLANT11|           V55555_10|\n",
            "+-------+----------+--------------------+\n",
            "\n"
          ]
        }
      ]
    },
    {
      "cell_type": "markdown",
      "source": [
        "#####7. Plant Ports"
      ],
      "metadata": {
        "id": "buc_Nnr0gj48"
      }
    },
    {
      "cell_type": "code",
      "source": [
        "df_spark_plant_ports.describe().show()"
      ],
      "metadata": {
        "id": "C6IBwlqhgljm",
        "colab": {
          "base_uri": "https://localhost:8080/"
        },
        "outputId": "47243157-496b-42ea-e52e-a3a46fdfac2c"
      },
      "execution_count": null,
      "outputs": [
        {
          "output_type": "stream",
          "name": "stdout",
          "text": [
            "+-------+----------+------+\n",
            "|summary|Plant Code|  Port|\n",
            "+-------+----------+------+\n",
            "|  count|        22|    22|\n",
            "|   mean|      null|  null|\n",
            "| stddev|      null|  null|\n",
            "|    min|   PLANT01|PORT01|\n",
            "|    max|   PLANT19|PORT11|\n",
            "+-------+----------+------+\n",
            "\n"
          ]
        }
      ]
    },
    {
      "cell_type": "code",
      "source": [
        "# df_spark_ol\n",
        "# df_spark_fr\n",
        "# df_spark_whCosts\n",
        "# df_spark_whCap\n",
        "# df_spark_ppp\n",
        "# df_spark_vc\n",
        "# df_spark_plant_ports"
      ],
      "metadata": {
        "id": "LvXRPWHInk8j"
      },
      "execution_count": null,
      "outputs": []
    },
    {
      "cell_type": "markdown",
      "source": [
        "_______________________________________________________________________________"
      ],
      "metadata": {
        "id": "INZmlnLRSMGo"
      }
    },
    {
      "cell_type": "markdown",
      "source": [
        "# **Update column names**\n",
        "To make the data easier to work with, you will need to make a few changes:\n",
        "1. Column headers should all be in lowercase; and\n",
        "2. Whitespaces should be replaced with underscores"
      ],
      "metadata": {
        "id": "A6eDdUN2vOZx"
      }
    },
    {
      "cell_type": "markdown",
      "source": [
        "##### Order List Table"
      ],
      "metadata": {
        "id": "Je8vc5ek6WBC"
      }
    },
    {
      "cell_type": "code",
      "source": [
        "# List column names for \"Order List\" table\n",
        "df_spark_ol.columns"
      ],
      "metadata": {
        "colab": {
          "base_uri": "https://localhost:8080/"
        },
        "id": "kwCPpZEDzVAO",
        "outputId": "972e5806-7ed5-4be8-f739-232c9e4273d3"
      },
      "execution_count": null,
      "outputs": [
        {
          "output_type": "execute_result",
          "data": {
            "text/plain": [
              "['Order ID',\n",
              " 'Order Date',\n",
              " 'Origin Port',\n",
              " 'Carrier',\n",
              " 'TPT',\n",
              " 'Service Level',\n",
              " 'Ship ahead day count',\n",
              " 'Ship Late Day count',\n",
              " 'Customer',\n",
              " 'Product ID',\n",
              " 'Plant Code',\n",
              " 'Destination Port',\n",
              " 'Unit quantity',\n",
              " 'Weight']"
            ]
          },
          "metadata": {},
          "execution_count": 13
        }
      ]
    },
    {
      "cell_type": "code",
      "source": [
        "# Code replace white spaces with replaces underscores in column headers\n",
        "df_spark_ol_1 = df_spark_ol.select([F.col(col).alias(col.replace(' ', '_')) for col in df_spark_ol.columns])"
      ],
      "metadata": {
        "id": "BU3xmy9QzoNn",
        "colab": {
          "base_uri": "https://localhost:8080/",
          "height": 197
        },
        "outputId": "f74cb5b5-de50-4e57-86be-5099405873ad"
      },
      "execution_count": null,
      "outputs": [
        {
          "output_type": "error",
          "ename": "NameError",
          "evalue": "ignored",
          "traceback": [
            "\u001b[0;31m---------------------------------------------------------------------------\u001b[0m",
            "\u001b[0;31mNameError\u001b[0m                                 Traceback (most recent call last)",
            "\u001b[0;32m<ipython-input-13-397829c6fda3>\u001b[0m in \u001b[0;36m<cell line: 2>\u001b[0;34m()\u001b[0m\n\u001b[1;32m      1\u001b[0m \u001b[0;31m# Code replace white spaces with replaces underscores in column headers\u001b[0m\u001b[0;34m\u001b[0m\u001b[0;34m\u001b[0m\u001b[0m\n\u001b[0;32m----> 2\u001b[0;31m \u001b[0mdf_spark_ol_1\u001b[0m \u001b[0;34m=\u001b[0m \u001b[0mdf_spark_ol\u001b[0m\u001b[0;34m.\u001b[0m\u001b[0mselect\u001b[0m\u001b[0;34m(\u001b[0m\u001b[0;34m[\u001b[0m\u001b[0mF\u001b[0m\u001b[0;34m.\u001b[0m\u001b[0mcol\u001b[0m\u001b[0;34m(\u001b[0m\u001b[0mcol\u001b[0m\u001b[0;34m)\u001b[0m\u001b[0;34m.\u001b[0m\u001b[0malias\u001b[0m\u001b[0;34m(\u001b[0m\u001b[0mcol\u001b[0m\u001b[0;34m.\u001b[0m\u001b[0mreplace\u001b[0m\u001b[0;34m(\u001b[0m\u001b[0;34m' '\u001b[0m\u001b[0;34m,\u001b[0m \u001b[0;34m'_'\u001b[0m\u001b[0;34m)\u001b[0m\u001b[0;34m)\u001b[0m \u001b[0;32mfor\u001b[0m \u001b[0mcol\u001b[0m \u001b[0;32min\u001b[0m \u001b[0mdf_spark_ol\u001b[0m\u001b[0;34m.\u001b[0m\u001b[0mcolumns\u001b[0m\u001b[0;34m]\u001b[0m\u001b[0;34m)\u001b[0m\u001b[0;34m\u001b[0m\u001b[0;34m\u001b[0m\u001b[0m\n\u001b[0m",
            "\u001b[0;31mNameError\u001b[0m: name 'df_spark_ol' is not defined"
          ]
        }
      ]
    },
    {
      "cell_type": "code",
      "source": [
        "# Code changes all column headers to lower case\n",
        "df_spark_ol_2 = df_spark_ol_1.selectExpr([f\"{col} as {col.lower()}\" for col in df_spark_ol_1.columns])\n"
      ],
      "metadata": {
        "id": "UngnFoxHGZnw"
      },
      "execution_count": null,
      "outputs": []
    },
    {
      "cell_type": "code",
      "source": [
        "df_spark_ol_2.columns"
      ],
      "metadata": {
        "colab": {
          "base_uri": "https://localhost:8080/"
        },
        "id": "uUoxCM4w6Blu",
        "outputId": "7105cbbf-4415-47d6-ec24-100257be8849"
      },
      "execution_count": null,
      "outputs": [
        {
          "output_type": "execute_result",
          "data": {
            "text/plain": [
              "['order_id',\n",
              " 'order_date',\n",
              " 'origin_port',\n",
              " 'carrier',\n",
              " 'tpt',\n",
              " 'service_level',\n",
              " 'ship_ahead_day_count',\n",
              " 'ship_late_day_count',\n",
              " 'customer',\n",
              " 'product_id',\n",
              " 'plant_code',\n",
              " 'destination_port',\n",
              " 'unit_quantity',\n",
              " 'weight']"
            ]
          },
          "metadata": {},
          "execution_count": 16
        }
      ]
    },
    {
      "cell_type": "markdown",
      "source": [
        "##### Freight Rates Table"
      ],
      "metadata": {
        "id": "AFbmE3oQ6eYU"
      }
    },
    {
      "cell_type": "code",
      "source": [
        "# List column names for \"Order List\" table\n",
        "df_spark_fr.columns"
      ],
      "metadata": {
        "colab": {
          "base_uri": "https://localhost:8080/"
        },
        "id": "meKywFkP8vwY",
        "outputId": "dc2615c4-8040-42af-8f3f-5b7ad69ec7a6"
      },
      "execution_count": null,
      "outputs": [
        {
          "output_type": "execute_result",
          "data": {
            "text/plain": [
              "['Carrier',\n",
              " 'orig_port_cd',\n",
              " 'dest_port_cd',\n",
              " 'minm_wgh_qty',\n",
              " 'max_wgh_qty',\n",
              " 'svc_cd',\n",
              " 'minimum cost',\n",
              " 'rate',\n",
              " 'mode_dsc',\n",
              " 'tpt_day_cnt',\n",
              " 'Carrier type']"
            ]
          },
          "metadata": {},
          "execution_count": 17
        }
      ]
    },
    {
      "cell_type": "code",
      "source": [
        "# Code replace white spaces with replaces underscores in column headers\n",
        "df_spark_fr_1 = df_spark_fr.select([F.col(col).alias(col.replace(' ', '_')) for col in df_spark_fr.columns])\n",
        "\n",
        "# Code changes all column headers to lower case\n",
        "df_spark_fr_2 = df_spark_fr_1.selectExpr([f\"{col} as {col.lower()}\" for col in df_spark_fr_1.columns])\n",
        "\n",
        "df_spark_fr_2.columns"
      ],
      "metadata": {
        "colab": {
          "base_uri": "https://localhost:8080/"
        },
        "id": "jvZXTIlz80Tg",
        "outputId": "6dd69577-6a81-43ae-e8c8-1b7a3e07baad"
      },
      "execution_count": null,
      "outputs": [
        {
          "output_type": "execute_result",
          "data": {
            "text/plain": [
              "['carrier',\n",
              " 'orig_port_cd',\n",
              " 'dest_port_cd',\n",
              " 'minm_wgh_qty',\n",
              " 'max_wgh_qty',\n",
              " 'svc_cd',\n",
              " 'minimum_cost',\n",
              " 'rate',\n",
              " 'mode_dsc',\n",
              " 'tpt_day_cnt',\n",
              " 'carrier_type']"
            ]
          },
          "metadata": {},
          "execution_count": 18
        }
      ]
    },
    {
      "cell_type": "markdown",
      "source": [
        "##### Weight Costs Table"
      ],
      "metadata": {
        "id": "AkUf18rt8OVx"
      }
    },
    {
      "cell_type": "code",
      "source": [
        "df_spark_whCosts.columns"
      ],
      "metadata": {
        "colab": {
          "base_uri": "https://localhost:8080/"
        },
        "id": "2_alZqFr8wew",
        "outputId": "ea263e3e-43e4-4235-f8cb-87e61436127b"
      },
      "execution_count": null,
      "outputs": [
        {
          "output_type": "execute_result",
          "data": {
            "text/plain": [
              "['WH', 'Cost/unit']"
            ]
          },
          "metadata": {},
          "execution_count": 19
        }
      ]
    },
    {
      "cell_type": "code",
      "source": [
        "# Code replace '/' with replaces underscores in column headers\n",
        "df_spark_whCosts_1 = df_spark_whCosts.select([F.col(col).alias(col.replace('/', '_')) for col in df_spark_whCosts.columns])\n",
        "\n",
        "# Code changes all column headers to lower case\n",
        "df_spark_whCosts_2 = df_spark_whCosts_1.selectExpr([f\"{col} as {col.lower()}\" for col in df_spark_whCosts_1.columns])\n",
        "\n",
        "df_spark_whCosts_2.columns"
      ],
      "metadata": {
        "colab": {
          "base_uri": "https://localhost:8080/"
        },
        "id": "IjCX77EV80zT",
        "outputId": "6e1a123c-16d2-41ba-cf99-8aa2ce3bb5bb"
      },
      "execution_count": null,
      "outputs": [
        {
          "output_type": "execute_result",
          "data": {
            "text/plain": [
              "['wh', 'cost_unit']"
            ]
          },
          "metadata": {},
          "execution_count": 20
        }
      ]
    },
    {
      "cell_type": "markdown",
      "source": [
        "##### Weight Capacities Table"
      ],
      "metadata": {
        "id": "yF5FQ67g8UHC"
      }
    },
    {
      "cell_type": "code",
      "source": [
        "df_spark_whCap.columns"
      ],
      "metadata": {
        "colab": {
          "base_uri": "https://localhost:8080/"
        },
        "id": "Lr5qjtLf8xFn",
        "outputId": "5f12d749-cd78-4367-85a8-c54518f2fcb7"
      },
      "execution_count": null,
      "outputs": [
        {
          "output_type": "execute_result",
          "data": {
            "text/plain": [
              "['Plant ID', 'Daily Capacity ']"
            ]
          },
          "metadata": {},
          "execution_count": 21
        }
      ]
    },
    {
      "cell_type": "code",
      "source": [
        "# Code replace whitespacs with replaces underscores in column headers\n",
        "df_spark_whCap_1 = df_spark_whCap.select([F.col(col).alias(col.replace(' ', '_')) for col in df_spark_whCap.columns])\n",
        "\n",
        "# Code changes all column headers to lower case\n",
        "df_spark_whCap_2 = df_spark_whCap_1.selectExpr([f\"{col} as {col.lower()}\" for col in df_spark_whCap_1.columns])\n",
        "\n",
        "df_spark_whCap_2.columns"
      ],
      "metadata": {
        "colab": {
          "base_uri": "https://localhost:8080/"
        },
        "id": "VmfG3HIn81N_",
        "outputId": "85d0cd9c-9113-4b0d-96ee-17d9844e47a6"
      },
      "execution_count": null,
      "outputs": [
        {
          "output_type": "execute_result",
          "data": {
            "text/plain": [
              "['plant_id', 'daily_capacity_']"
            ]
          },
          "metadata": {},
          "execution_count": 22
        }
      ]
    },
    {
      "cell_type": "markdown",
      "source": [
        "##### Products Per Plant Table"
      ],
      "metadata": {
        "id": "cmc3mUGK8Tza"
      }
    },
    {
      "cell_type": "code",
      "source": [
        "df_spark_ppp.columns"
      ],
      "metadata": {
        "colab": {
          "base_uri": "https://localhost:8080/"
        },
        "id": "khQaJKWG8x4L",
        "outputId": "b3e61bdc-db12-4a9a-d389-a9c512baa089"
      },
      "execution_count": null,
      "outputs": [
        {
          "output_type": "execute_result",
          "data": {
            "text/plain": [
              "['Plant Code', 'Product ID']"
            ]
          },
          "metadata": {},
          "execution_count": 23
        }
      ]
    },
    {
      "cell_type": "code",
      "source": [
        "# Code replace whitespacs with replaces underscores in column headers\n",
        "df_spark_ppp_1 = df_spark_ppp.select([F.col(col).alias(col.replace(' ', '_')) for col in df_spark_ppp.columns])\n",
        "\n",
        "# Code changes all column headers to lower case\n",
        "df_spark_ppp_2 = df_spark_ppp_1.selectExpr([f\"{col} as {col.lower()}\" for col in df_spark_ppp_1.columns])\n",
        "\n",
        "df_spark_ppp_2.columns"
      ],
      "metadata": {
        "colab": {
          "base_uri": "https://localhost:8080/"
        },
        "id": "c4X-DpoU81k2",
        "outputId": "5185982b-f88b-494e-f546-73b687449e50"
      },
      "execution_count": null,
      "outputs": [
        {
          "output_type": "execute_result",
          "data": {
            "text/plain": [
              "['plant_code', 'product_id']"
            ]
          },
          "metadata": {},
          "execution_count": 24
        }
      ]
    },
    {
      "cell_type": "markdown",
      "source": [
        "##### Vendor Managed Inventory Customers Table"
      ],
      "metadata": {
        "id": "-jQCXlg-8Tmi"
      }
    },
    {
      "cell_type": "code",
      "source": [
        "df_spark_vc.columns"
      ],
      "metadata": {
        "colab": {
          "base_uri": "https://localhost:8080/"
        },
        "id": "moOWGJPC8ycn",
        "outputId": "9a109334-5124-4d55-dc92-e35ce2dc413f"
      },
      "execution_count": null,
      "outputs": [
        {
          "output_type": "execute_result",
          "data": {
            "text/plain": [
              "['Plant Code', 'Customers']"
            ]
          },
          "metadata": {},
          "execution_count": 25
        }
      ]
    },
    {
      "cell_type": "code",
      "source": [
        "# Code replace whitespacs with replaces underscores in column headers\n",
        "df_spark_vc_1 = df_spark_vc.select([F.col(col).alias(col.replace(' ', '_')) for col in df_spark_vc.columns])\n",
        "\n",
        "# Code changes all column headers to lower case\n",
        "df_spark_vc_2 = df_spark_vc_1.selectExpr([f\"{col} as {col.lower()}\" for col in df_spark_vc_1.columns])\n",
        "\n",
        "df_spark_vc_2.columns"
      ],
      "metadata": {
        "colab": {
          "base_uri": "https://localhost:8080/"
        },
        "id": "q8fEIffZ82DV",
        "outputId": "08aa7d35-bc9d-423e-89dc-8ddf15d5308c"
      },
      "execution_count": null,
      "outputs": [
        {
          "output_type": "execute_result",
          "data": {
            "text/plain": [
              "['plant_code', 'customers']"
            ]
          },
          "metadata": {},
          "execution_count": 26
        }
      ]
    },
    {
      "cell_type": "markdown",
      "source": [
        "##### Plant Ports Table"
      ],
      "metadata": {
        "id": "kwska5ht8hCa"
      }
    },
    {
      "cell_type": "code",
      "source": [
        "df_spark_plant_ports.columns"
      ],
      "metadata": {
        "colab": {
          "base_uri": "https://localhost:8080/"
        },
        "id": "kwvE4F0y8zNX",
        "outputId": "db11e1df-46a1-4892-fd02-e5576262b599"
      },
      "execution_count": null,
      "outputs": [
        {
          "output_type": "execute_result",
          "data": {
            "text/plain": [
              "['Plant Code', 'Port']"
            ]
          },
          "metadata": {},
          "execution_count": 27
        }
      ]
    },
    {
      "cell_type": "code",
      "source": [
        "# Code replace whitespacs with replaces underscores in column headers\n",
        "df_spark_plant_ports_1 = df_spark_plant_ports.select([F.col(col).alias(col.replace(' ', '_')) for col in df_spark_plant_ports.columns])\n",
        "\n",
        "# Code changes all column headers to lower case\n",
        "df_spark_plant_ports_2 = df_spark_plant_ports_1.selectExpr([f\"{col} as {col.lower()}\" for col in df_spark_plant_ports_1.columns])\n",
        "\n",
        "df_spark_plant_ports_2.columns"
      ],
      "metadata": {
        "colab": {
          "base_uri": "https://localhost:8080/"
        },
        "id": "t_zm_RJr8zp_",
        "outputId": "abb9f592-1e92-4822-8ef2-5c47ecc411f1"
      },
      "execution_count": null,
      "outputs": [
        {
          "output_type": "execute_result",
          "data": {
            "text/plain": [
              "['plant_code', 'port']"
            ]
          },
          "metadata": {},
          "execution_count": 28
        }
      ]
    },
    {
      "cell_type": "markdown",
      "source": [
        "_______________________________________________________________________________"
      ],
      "metadata": {
        "id": "YKGCmhkZR7Q6"
      }
    },
    {
      "cell_type": "markdown",
      "source": [
        "# **Quick check for null/missing value**"
      ],
      "metadata": {
        "id": "ef5hX-WIKWln"
      }
    },
    {
      "cell_type": "code",
      "source": [
        "# df_spark_ol_2\n",
        "# df_spark_fr_2\n",
        "# df_spark_whCosts_2\n",
        "# df_spark_whCap_2\n",
        "# df_spark_ppp_2\n",
        "# df_spark_vc_2\n",
        "# df_spark_plant_ports_2\n",
        "\n",
        "# Order List Table\n",
        "# Freight Rates Table\n",
        "# ##### Weight Costs Table\n",
        "# ##### Weight Capacities Table\n",
        "# ##### Products Per Plant Table\n",
        "# ##### Vendor Managed Inventory Customers Table\n",
        "# ##### Plant Ports Table"
      ],
      "metadata": {
        "id": "hHaUiOQqLNtk"
      },
      "execution_count": null,
      "outputs": []
    },
    {
      "cell_type": "markdown",
      "source": [
        "##### Order List Table"
      ],
      "metadata": {
        "id": "Dib1-EQ3Sfha"
      }
    },
    {
      "cell_type": "code",
      "source": [
        "# Method 1\n",
        "# Counting null values for each column in the 'Order List' table\n",
        "null_counts_ol = df_spark_ol_2.select(*[\n",
        "    F.sum(F.col(column).isNull().cast(\"int\")).alias(column + '_null_count')\n",
        "    for column in df_spark_ol_2.columns\n",
        "])\n",
        "\n",
        "# Display the result\n",
        "null_counts_ol.show()"
      ],
      "metadata": {
        "colab": {
          "base_uri": "https://localhost:8080/"
        },
        "id": "Ob-5yGt6KlPj",
        "outputId": "4bdfae13-610c-4cda-be26-4a3b0869a999"
      },
      "execution_count": null,
      "outputs": [
        {
          "output_type": "stream",
          "name": "stdout",
          "text": [
            "+-------------------+---------------------+----------------------+------------------+--------------+------------------------+-------------------------------+------------------------------+-------------------+---------------------+---------------------+---------------------------+------------------------+-----------------+\n",
            "|order_id_null_count|order_date_null_count|origin_port_null_count|carrier_null_count|tpt_null_count|service_level_null_count|ship_ahead_day_count_null_count|ship_late_day_count_null_count|customer_null_count|product_id_null_count|plant_code_null_count|destination_port_null_count|unit_quantity_null_count|weight_null_count|\n",
            "+-------------------+---------------------+----------------------+------------------+--------------+------------------------+-------------------------------+------------------------------+-------------------+---------------------+---------------------+---------------------------+------------------------+-----------------+\n",
            "|                  0|                    0|                     0|                 0|             0|                       0|                              0|                             0|                  0|                    0|                    0|                          0|                       0|                0|\n",
            "+-------------------+---------------------+----------------------+------------------+--------------+------------------------+-------------------------------+------------------------------+-------------------+---------------------+---------------------+---------------------------+------------------------+-----------------+\n",
            "\n"
          ]
        }
      ]
    },
    {
      "cell_type": "code",
      "source": [
        "# Method 2\n",
        "# Longer method than method 1 as a count for each column needs to be done in a table\n",
        "# Code counts the lenght of a column i.e number of rows\n",
        "row_count = df_spark_ol_2.count()\n",
        "print(row_count)"
      ],
      "metadata": {
        "colab": {
          "base_uri": "https://localhost:8080/"
        },
        "id": "0D2-B8wkKKJr",
        "outputId": "e85aedc9-858d-4417-cc2d-e68505b6bf1e"
      },
      "execution_count": null,
      "outputs": [
        {
          "output_type": "stream",
          "name": "stdout",
          "text": [
            "9215\n"
          ]
        }
      ]
    },
    {
      "cell_type": "code",
      "source": [
        "# Code specifies the column you want to count non-null elements for using the column_name variable\n",
        "column_name = \"order_id\"\n",
        "\n",
        "# Use the filter method with col(column_name).isNotNull() to filter out rows where the specified column is not null\n",
        "nan_count = df_spark_ol_2.filter(col(column_name).isNotNull()).count()\n",
        "\n",
        "# Applies the count method on the filtered DataFrame to count the remaining rows, which represent non-null values in the specified column\n",
        "print(nan_count)"
      ],
      "metadata": {
        "colab": {
          "base_uri": "https://localhost:8080/"
        },
        "id": "_92ofVZwN2md",
        "outputId": "f8fd38c3-3556-4c1c-adcb-4c433e58a08f"
      },
      "execution_count": null,
      "outputs": [
        {
          "output_type": "stream",
          "name": "stdout",
          "text": [
            "9215\n"
          ]
        }
      ]
    },
    {
      "cell_type": "code",
      "source": [
        "# With the 'row_count' and nan_count, we're able to calculate the number of missing values\n",
        "# The number of missing values is the difference between the 'row_count' and nan_count\n",
        "num_missing_val = row_count - nan_count\n",
        "percentage_miss_val = float(num_missing_val / row_count)\n",
        "percentage_miss_val = \"{0:.1f}%\".format(percentage_miss_val*100)\n",
        "print(f\"{percentage_miss_val} missing values in {column_name} column\")"
      ],
      "metadata": {
        "colab": {
          "base_uri": "https://localhost:8080/"
        },
        "id": "eW6OstIEPb7H",
        "outputId": "70d7db97-547e-4a97-ebb4-ab29753bd2fc"
      },
      "execution_count": null,
      "outputs": [
        {
          "output_type": "stream",
          "name": "stdout",
          "text": [
            "0.0% missing values in order_id column\n"
          ]
        }
      ]
    },
    {
      "cell_type": "markdown",
      "source": [
        "##### Freight Rates Table"
      ],
      "metadata": {
        "id": "geOGsWB7SjIv"
      }
    },
    {
      "cell_type": "code",
      "source": [
        "# Counting null values for each column in the 'Freight Rates' table\n",
        "null_counts_fr = df_spark_fr_2.select(*[\n",
        "    F.sum(F.col(column).isNull().cast(\"int\")).alias(column + '_null_count')\n",
        "    for column in df_spark_fr_2.columns\n",
        "])\n",
        "\n",
        "# Display the result\n",
        "null_counts_fr.show()"
      ],
      "metadata": {
        "colab": {
          "base_uri": "https://localhost:8080/"
        },
        "id": "-P_wjgXnQni2",
        "outputId": "4a2d9775-9c5a-45bd-c436-000f46663a92"
      },
      "execution_count": null,
      "outputs": [
        {
          "output_type": "stream",
          "name": "stdout",
          "text": [
            "+------------------+-----------------------+-----------------------+-----------------------+----------------------+-----------------+-----------------------+---------------+-------------------+----------------------+-----------------------+\n",
            "|carrier_null_count|orig_port_cd_null_count|dest_port_cd_null_count|minm_wgh_qty_null_count|max_wgh_qty_null_count|svc_cd_null_count|minimum_cost_null_count|rate_null_count|mode_dsc_null_count|tpt_day_cnt_null_count|carrier_type_null_count|\n",
            "+------------------+-----------------------+-----------------------+-----------------------+----------------------+-----------------+-----------------------+---------------+-------------------+----------------------+-----------------------+\n",
            "|                 0|                      0|                      0|                      0|                     0|                0|                      0|              0|                  0|                     0|                      0|\n",
            "+------------------+-----------------------+-----------------------+-----------------------+----------------------+-----------------+-----------------------+---------------+-------------------+----------------------+-----------------------+\n",
            "\n"
          ]
        }
      ]
    },
    {
      "cell_type": "markdown",
      "source": [
        "##### Weight Costs Table"
      ],
      "metadata": {
        "id": "d_1OI-omSpGZ"
      }
    },
    {
      "cell_type": "code",
      "source": [
        "# Counting null values for each column in the 'Weight Costs' table\n",
        "null_counts_whCosts = df_spark_whCosts_2.select(*[\n",
        "    F.sum(F.col(column).isNull().cast(\"int\")).alias(column + '_null_count')\n",
        "    for column in df_spark_whCosts_2.columns\n",
        "])\n",
        "\n",
        "# Display the result\n",
        "null_counts_whCosts.show()"
      ],
      "metadata": {
        "colab": {
          "base_uri": "https://localhost:8080/"
        },
        "id": "1Rnwa0qnQngX",
        "outputId": "ef35ff37-3311-449a-8e65-037c5754f3f4"
      },
      "execution_count": null,
      "outputs": [
        {
          "output_type": "stream",
          "name": "stdout",
          "text": [
            "+-------------+--------------------+\n",
            "|wh_null_count|cost_unit_null_count|\n",
            "+-------------+--------------------+\n",
            "|            0|                   0|\n",
            "+-------------+--------------------+\n",
            "\n"
          ]
        }
      ]
    },
    {
      "cell_type": "markdown",
      "source": [
        "##### Weight Capacities Table"
      ],
      "metadata": {
        "id": "KMrutHP_SpoM"
      }
    },
    {
      "cell_type": "code",
      "source": [
        "# Counting null values for each column in the 'Weight Capacities' table\n",
        "null_counts_whCap = df_spark_whCap_2.select(*[\n",
        "    F.sum(F.col(column).isNull().cast(\"int\")).alias(column + '_null_count')\n",
        "    for column in df_spark_whCap_2.columns\n",
        "])\n",
        "\n",
        "# Display the result\n",
        "null_counts_whCap.show()"
      ],
      "metadata": {
        "colab": {
          "base_uri": "https://localhost:8080/"
        },
        "id": "7q1c2upNQndd",
        "outputId": "d33cd80a-982d-49b4-edde-e35b68ab9b22"
      },
      "execution_count": null,
      "outputs": [
        {
          "output_type": "stream",
          "name": "stdout",
          "text": [
            "+-------------------+--------------------------+\n",
            "|plant_id_null_count|daily_capacity__null_count|\n",
            "+-------------------+--------------------------+\n",
            "|                  0|                         0|\n",
            "+-------------------+--------------------------+\n",
            "\n"
          ]
        }
      ]
    },
    {
      "cell_type": "markdown",
      "source": [
        "##### Products Per Plant Table"
      ],
      "metadata": {
        "id": "XqNH4RbeSqLf"
      }
    },
    {
      "cell_type": "code",
      "source": [
        "# Counting null values for each column in the 'Products Per Plant' table\n",
        "null_counts_ppp = df_spark_ppp_2.select(*[\n",
        "    F.sum(F.col(column).isNull().cast(\"int\")).alias(column + '_null_count')\n",
        "    for column in df_spark_ppp_2.columns\n",
        "])\n",
        "\n",
        "# Display the result\n",
        "null_counts_ppp.show()"
      ],
      "metadata": {
        "colab": {
          "base_uri": "https://localhost:8080/"
        },
        "id": "K0eAFz0DQnbB",
        "outputId": "7b8387b0-48ca-4319-91d2-0d32d9b11cc8"
      },
      "execution_count": null,
      "outputs": [
        {
          "output_type": "stream",
          "name": "stdout",
          "text": [
            "+---------------------+---------------------+\n",
            "|plant_code_null_count|product_id_null_count|\n",
            "+---------------------+---------------------+\n",
            "|                    0|                    0|\n",
            "+---------------------+---------------------+\n",
            "\n"
          ]
        }
      ]
    },
    {
      "cell_type": "markdown",
      "source": [
        "##### Vendor Managed Inventory Customers Table"
      ],
      "metadata": {
        "id": "ZxoDWg37SqnX"
      }
    },
    {
      "cell_type": "code",
      "source": [
        "# Counting null values for each column in the 'Vendor Managed Inventory Customers' table\n",
        "null_counts_vc = df_spark_vc_2.select(*[\n",
        "    F.sum(F.col(column).isNull().cast(\"int\")).alias(column + '_null_count')\n",
        "    for column in df_spark_vc_2.columns\n",
        "])\n",
        "\n",
        "# Display the result\n",
        "null_counts_vc.show()"
      ],
      "metadata": {
        "colab": {
          "base_uri": "https://localhost:8080/"
        },
        "id": "0mVJK6MyQnYY",
        "outputId": "9b60923a-668d-4de6-f0d8-bd0bfeb0a9a4"
      },
      "execution_count": null,
      "outputs": [
        {
          "output_type": "stream",
          "name": "stdout",
          "text": [
            "+---------------------+--------------------+\n",
            "|plant_code_null_count|customers_null_count|\n",
            "+---------------------+--------------------+\n",
            "|                    0|                   0|\n",
            "+---------------------+--------------------+\n",
            "\n"
          ]
        }
      ]
    },
    {
      "cell_type": "markdown",
      "source": [
        "##### Plant Ports Table"
      ],
      "metadata": {
        "id": "QhJfmz7-Sq-h"
      }
    },
    {
      "cell_type": "code",
      "source": [
        "# Counting null values for each column in the 'Plant Ports' table\n",
        "null_counts_plant_ports = df_spark_plant_ports_2.select(*[\n",
        "    F.sum(F.col(column).isNull().cast(\"int\")).alias(column + '_null_count')\n",
        "    for column in df_spark_plant_ports_2.columns\n",
        "])\n",
        "\n",
        "# Display the result\n",
        "null_counts_plant_ports.show()"
      ],
      "metadata": {
        "colab": {
          "base_uri": "https://localhost:8080/"
        },
        "id": "zOzgR4cDQnVw",
        "outputId": "4422b524-a4d3-4464-e04c-aaedbd01e231"
      },
      "execution_count": null,
      "outputs": [
        {
          "output_type": "stream",
          "name": "stdout",
          "text": [
            "+---------------------+---------------+\n",
            "|plant_code_null_count|port_null_count|\n",
            "+---------------------+---------------+\n",
            "|                    0|              0|\n",
            "+---------------------+---------------+\n",
            "\n"
          ]
        }
      ]
    },
    {
      "cell_type": "markdown",
      "source": [
        "_______________________________________________________________________________"
      ],
      "metadata": {
        "id": "iyvow-ZyTWwH"
      }
    },
    {
      "cell_type": "markdown",
      "source": [
        "# **Data validity check**"
      ],
      "metadata": {
        "id": "1bZVBvKM9f2-"
      }
    },
    {
      "cell_type": "markdown",
      "source": [
        "Data is valid if it conforms to the syntax (format, type, range) of its definition.\n",
        "\n",
        "Certain values within a field may have specific criteria required to make it valid, e.g., numerical columns cannot contain alphabetical characters, which can occur due to scientific notation."
      ],
      "metadata": {
        "id": "lNE0Wsem_3wO"
      }
    },
    {
      "cell_type": "code",
      "source": [],
      "metadata": {
        "id": "wVXLuZirKHK0"
      },
      "execution_count": null,
      "outputs": []
    },
    {
      "cell_type": "markdown",
      "source": [
        "We need to first define what we expect from our dataset:\n",
        "\n",
        "**Order List Table (suggested schema)**\n",
        "\n",
        "* Order ID: integer (nullable = true) => Should be positive or 0\n",
        "\n",
        "* Order Date: date (nullable = true)\n",
        "\n",
        "* Origin Port: string (nullable = true) => Should be contained in the list of\n",
        "\n",
        "* Carrier: string (nullable = true) => Should be contained in the list of\n",
        "\n",
        "\n",
        "* TPT: integer (nullable = true) => Should be positive or 0\n",
        "\n",
        "* Service Level: string (nullable = true) => Should be contained in the list of\n",
        "\n",
        "* Ship ahead day count: integer (nullable = true) => Should be positive or 0\n",
        "\n",
        "* Ship Late Day count: integer (nullable = true) => Should be positive or 0\n",
        "\n",
        "* Customer: string (nullable = true) => Should be contained in the list of\n",
        "\n",
        "* Product ID: integer (nullable = true) => Should be positive or 0\n",
        "\n",
        "* Plant Code: string (nullable = true) => Should be contained in the list of\n",
        "\n",
        "* Destination Port: string (nullable = true) => Should be contained in the list of\n",
        "\n",
        "* Unit quantity: integer (nullable = true) => Should be positive or 0\n",
        "\n",
        "* Weight: double (nullable = true) => Should be positive or 0"
      ],
      "metadata": {
        "id": "oXlC22-UAI-3"
      }
    },
    {
      "cell_type": "code",
      "source": [
        "# print current schema of the \"Order List\" Table\n",
        "df_spark_ol_2.printSchema()"
      ],
      "metadata": {
        "id": "zyhKHCETF2hT",
        "colab": {
          "base_uri": "https://localhost:8080/"
        },
        "outputId": "aa6caf1f-c5e6-4813-e9d0-5ce0361336c2"
      },
      "execution_count": null,
      "outputs": [
        {
          "output_type": "stream",
          "name": "stdout",
          "text": [
            "root\n",
            " |-- order_id: double (nullable = true)\n",
            " |-- order_date: timestamp (nullable = true)\n",
            " |-- origin_port: string (nullable = true)\n",
            " |-- carrier: string (nullable = true)\n",
            " |-- tpt: long (nullable = true)\n",
            " |-- service_level: string (nullable = true)\n",
            " |-- ship_ahead_day_count: long (nullable = true)\n",
            " |-- ship_late_day_count: long (nullable = true)\n",
            " |-- customer: string (nullable = true)\n",
            " |-- product_id: long (nullable = true)\n",
            " |-- plant_code: string (nullable = true)\n",
            " |-- destination_port: string (nullable = true)\n",
            " |-- unit_quantity: long (nullable = true)\n",
            " |-- weight: double (nullable = true)\n",
            "\n"
          ]
        }
      ]
    },
    {
      "cell_type": "code",
      "source": [
        "df_spark_ol_2.show()"
      ],
      "metadata": {
        "id": "5aJ4yy9ksMZG",
        "colab": {
          "base_uri": "https://localhost:8080/"
        },
        "outputId": "e34d32c8-1413-47bf-948f-f5f92a6c38e6"
      },
      "execution_count": null,
      "outputs": [
        {
          "output_type": "stream",
          "name": "stdout",
          "text": [
            "+--------------+-------------------+-----------+-------+---+-------------+--------------------+-------------------+---------+----------+----------+----------------+-------------+-----------------+\n",
            "|      order_id|         order_date|origin_port|carrier|tpt|service_level|ship_ahead_day_count|ship_late_day_count| customer|product_id|plant_code|destination_port|unit_quantity|           weight|\n",
            "+--------------+-------------------+-----------+-------+---+-------------+--------------------+-------------------+---------+----------+----------+----------------+-------------+-----------------+\n",
            "|1.4472964467E9|2013-05-26 00:00:00|     PORT09|  V44_3|  1|          CRF|                   3|                  0|V55555_53|   1700106|   PLANT16|          PORT09|          808|             14.3|\n",
            "|1.4471580147E9|2013-05-26 00:00:00|     PORT09|  V44_3|  1|          CRF|                   3|                  0|V55555_53|   1700106|   PLANT16|          PORT09|         3188|            87.94|\n",
            "|1.4471388987E9|2013-05-26 00:00:00|     PORT09|  V44_3|  1|          CRF|                   3|                  0|V55555_53|   1700106|   PLANT16|          PORT09|         2331|             61.2|\n",
            "|1.4473635277E9|2013-05-26 00:00:00|     PORT09|  V44_3|  1|          CRF|                   3|                  0|V55555_53|   1700106|   PLANT16|          PORT09|          847|            16.16|\n",
            "|1.4473639807E9|2013-05-26 00:00:00|     PORT09|  V44_3|  1|          CRF|                   3|                  0|V55555_53|   1700106|   PLANT16|          PORT09|         2163|            52.34|\n",
            "|1.4473514407E9|2013-05-26 00:00:00|     PORT09|  V44_3|  1|          CRF|                   3|                  0|V55555_53|   1700106|   PLANT16|          PORT09|         3332|             92.8|\n",
            "|1.4473202357E9|2013-05-26 00:00:00|     PORT09|  V44_3|  1|          CRF|                   3|                  0|V55555_53|   1700106|   PLANT16|          PORT09|         1782|             46.9|\n",
            "|1.4471580187E9|2013-05-26 00:00:00|     PORT09|  V44_3|  1|          CRF|                   3|                  0|V55555_53|   1700106|   PLANT16|          PORT09|          427|             2.86|\n",
            "|1.4472193407E9|2013-05-26 00:00:00|     PORT09|  V44_3|  1|          CRF|                   3|                  0|V55555_53|   1700106|   PLANT16|          PORT09|         1291|             26.6|\n",
            "|1.4473984157E9|2013-05-26 00:00:00|     PORT09|  V44_3|  1|          CRF|                   3|                  0|V55555_53|   1700106|   PLANT16|          PORT09|         2294|             62.2|\n",
            "|1.4473816787E9|2013-05-26 00:00:00|     PORT09|  V44_3|  1|          CRF|                   3|                  0|V55555_53|   1700106|   PLANT16|          PORT09|         2766|             75.5|\n",
            "|1.4471707847E9|2013-05-26 00:00:00|     PORT09|  V44_3|  1|          CRF|                   3|                  0|V55555_53|   1700106|   PLANT16|          PORT09|          798|             14.3|\n",
            "|1.4471550557E9|2013-05-26 00:00:00|     PORT09|  V44_3|  1|          CRF|                   3|                  0|V55555_53|   1697884|   PLANT16|          PORT09|          739|             73.9|\n",
            "|1.4472572647E9|2013-05-26 00:00:00|     PORT09|  V44_3|  1|          CRF|                   3|                  0|V55555_53|   1697884|   PLANT16|          PORT09|          280|7.800000000000001|\n",
            "|1.4472409887E9|2013-05-26 00:00:00|     PORT09|  V44_3|  1|          CRF|                   3|                  0|V55555_53|   1697884|   PLANT16|          PORT09|          574|             59.5|\n",
            "|1.4472572307E9|2013-05-26 00:00:00|     PORT09|  V44_3|  1|          CRF|                   3|                  0|V55555_53|   1697884|   PLANT16|          PORT09|          556|             52.7|\n",
            "|1.4472606527E9|2013-05-26 00:00:00|     PORT09|  V44_3|  1|          CRF|                   3|                  0|V55555_53|   1697884|   PLANT16|          PORT09|          544|             58.5|\n",
            "|1.4471393747E9|2013-05-26 00:00:00|     PORT09|  V44_3|  1|          CRF|                   3|                  0|V55555_53|   1697884|   PLANT16|          PORT09|         1151|            181.7|\n",
            "|1.4473085897E9|2013-05-26 00:00:00|     PORT09|  V44_3|  1|          CRF|                   3|                  0|V55555_53|   1697884|   PLANT16|          PORT09|         1404|            227.2|\n",
            "|1.4471912707E9|2013-05-26 00:00:00|     PORT09|  V44_3|  1|          CRF|                   3|                  0|V55555_53|   1697884|   PLANT16|          PORT09|          662|             74.1|\n",
            "+--------------+-------------------+-----------+-------+---+-------------+--------------------+-------------------+---------+----------+----------+----------------+-------------+-----------------+\n",
            "only showing top 20 rows\n",
            "\n"
          ]
        }
      ]
    },
    {
      "cell_type": "code",
      "source": [
        "# removing anomaly in order_id column of 0.7 the casting the datatype to an integer as it is suppose to be\n",
        "df_spark_ol_2 = df_spark_ol_2.withColumn(\"order_id\", (col(\"order_id\") - 0.7).cast(\"int\"))\n"
      ],
      "metadata": {
        "id": "Nz7m0pa2rNOr"
      },
      "execution_count": null,
      "outputs": []
    },
    {
      "cell_type": "code",
      "source": [
        "df_spark_ol_2.show()"
      ],
      "metadata": {
        "id": "pJsv_yybs26q",
        "colab": {
          "base_uri": "https://localhost:8080/"
        },
        "outputId": "28cabb8f-9374-4d2e-c772-f944962de0bc"
      },
      "execution_count": null,
      "outputs": [
        {
          "output_type": "stream",
          "name": "stdout",
          "text": [
            "+----------+-------------------+-----------+-------+---+-------------+--------------------+-------------------+---------+----------+----------+----------------+-------------+-----------------+\n",
            "|  order_id|         order_date|origin_port|carrier|tpt|service_level|ship_ahead_day_count|ship_late_day_count| customer|product_id|plant_code|destination_port|unit_quantity|           weight|\n",
            "+----------+-------------------+-----------+-------+---+-------------+--------------------+-------------------+---------+----------+----------+----------------+-------------+-----------------+\n",
            "|1447296446|2013-05-26 00:00:00|     PORT09|  V44_3|  1|          CRF|                   3|                  0|V55555_53|   1700106|   PLANT16|          PORT09|          808|             14.3|\n",
            "|1447158014|2013-05-26 00:00:00|     PORT09|  V44_3|  1|          CRF|                   3|                  0|V55555_53|   1700106|   PLANT16|          PORT09|         3188|            87.94|\n",
            "|1447138898|2013-05-26 00:00:00|     PORT09|  V44_3|  1|          CRF|                   3|                  0|V55555_53|   1700106|   PLANT16|          PORT09|         2331|             61.2|\n",
            "|1447363527|2013-05-26 00:00:00|     PORT09|  V44_3|  1|          CRF|                   3|                  0|V55555_53|   1700106|   PLANT16|          PORT09|          847|            16.16|\n",
            "|1447363980|2013-05-26 00:00:00|     PORT09|  V44_3|  1|          CRF|                   3|                  0|V55555_53|   1700106|   PLANT16|          PORT09|         2163|            52.34|\n",
            "|1447351440|2013-05-26 00:00:00|     PORT09|  V44_3|  1|          CRF|                   3|                  0|V55555_53|   1700106|   PLANT16|          PORT09|         3332|             92.8|\n",
            "|1447320235|2013-05-26 00:00:00|     PORT09|  V44_3|  1|          CRF|                   3|                  0|V55555_53|   1700106|   PLANT16|          PORT09|         1782|             46.9|\n",
            "|1447158018|2013-05-26 00:00:00|     PORT09|  V44_3|  1|          CRF|                   3|                  0|V55555_53|   1700106|   PLANT16|          PORT09|          427|             2.86|\n",
            "|1447219340|2013-05-26 00:00:00|     PORT09|  V44_3|  1|          CRF|                   3|                  0|V55555_53|   1700106|   PLANT16|          PORT09|         1291|             26.6|\n",
            "|1447398415|2013-05-26 00:00:00|     PORT09|  V44_3|  1|          CRF|                   3|                  0|V55555_53|   1700106|   PLANT16|          PORT09|         2294|             62.2|\n",
            "|1447381678|2013-05-26 00:00:00|     PORT09|  V44_3|  1|          CRF|                   3|                  0|V55555_53|   1700106|   PLANT16|          PORT09|         2766|             75.5|\n",
            "|1447170784|2013-05-26 00:00:00|     PORT09|  V44_3|  1|          CRF|                   3|                  0|V55555_53|   1700106|   PLANT16|          PORT09|          798|             14.3|\n",
            "|1447155055|2013-05-26 00:00:00|     PORT09|  V44_3|  1|          CRF|                   3|                  0|V55555_53|   1697884|   PLANT16|          PORT09|          739|             73.9|\n",
            "|1447257264|2013-05-26 00:00:00|     PORT09|  V44_3|  1|          CRF|                   3|                  0|V55555_53|   1697884|   PLANT16|          PORT09|          280|7.800000000000001|\n",
            "|1447240988|2013-05-26 00:00:00|     PORT09|  V44_3|  1|          CRF|                   3|                  0|V55555_53|   1697884|   PLANT16|          PORT09|          574|             59.5|\n",
            "|1447257230|2013-05-26 00:00:00|     PORT09|  V44_3|  1|          CRF|                   3|                  0|V55555_53|   1697884|   PLANT16|          PORT09|          556|             52.7|\n",
            "|1447260652|2013-05-26 00:00:00|     PORT09|  V44_3|  1|          CRF|                   3|                  0|V55555_53|   1697884|   PLANT16|          PORT09|          544|             58.5|\n",
            "|1447139374|2013-05-26 00:00:00|     PORT09|  V44_3|  1|          CRF|                   3|                  0|V55555_53|   1697884|   PLANT16|          PORT09|         1151|            181.7|\n",
            "|1447308589|2013-05-26 00:00:00|     PORT09|  V44_3|  1|          CRF|                   3|                  0|V55555_53|   1697884|   PLANT16|          PORT09|         1404|            227.2|\n",
            "|1447191270|2013-05-26 00:00:00|     PORT09|  V44_3|  1|          CRF|                   3|                  0|V55555_53|   1697884|   PLANT16|          PORT09|          662|             74.1|\n",
            "+----------+-------------------+-----------+-------+---+-------------+--------------------+-------------------+---------+----------+----------+----------------+-------------+-----------------+\n",
            "only showing top 20 rows\n",
            "\n"
          ]
        }
      ]
    },
    {
      "cell_type": "code",
      "source": [
        "#Change the 'Order List' table schema to the suggested schema\n",
        "schema_ol_2 = StructType([\n",
        "    StructField(\"order_id\", IntegerType(), nullable=True),\n",
        "    StructField(\"order_date\", TimestampType(), nullable=True),\n",
        "    StructField(\"origin_port\", StringType(), nullable=True),\n",
        "    StructField(\"carrier\", StringType(), nullable=True),\n",
        "    StructField(\"tpt\", IntegerType(), nullable=True),\n",
        "    StructField(\"service_level\", StringType(), nullable=True),\n",
        "    StructField(\"ship_ahead_day_count\", IntegerType(), nullable=True),\n",
        "    StructField(\"ship_late_day_count\", IntegerType(), nullable=True),\n",
        "    StructField(\"customer\", StringType(), nullable=True),\n",
        "    StructField(\"product_id\", IntegerType(), nullable=True),\n",
        "    StructField(\"plant_code\", StringType(), nullable=True),\n",
        "    StructField(\"destination_port\", StringType(), nullable=True),\n",
        "    StructField(\"unit_quantity\", IntegerType(), nullable=True),\n",
        "    StructField(\"weight\", FloatType(), nullable=True)\n",
        "])\n",
        "\n",
        "# Change the schema of the existing DataFrame \"df_spark_ol_2\"\n",
        "df_spark_ol_2 = spark.createDataFrame(df_spark_ol_2.rdd, schema=schema_ol_2)"
      ],
      "metadata": {
        "id": "nhBG-PeFYSR4"
      },
      "execution_count": null,
      "outputs": []
    },
    {
      "cell_type": "code",
      "source": [
        "# Show the new schema of the 'df_spark_ol_2' Dataframe\n",
        "df_spark_ol_2.printSchema()"
      ],
      "metadata": {
        "colab": {
          "base_uri": "https://localhost:8080/"
        },
        "id": "GzxsckDYdjJ3",
        "outputId": "a207b97e-93c6-4a72-b520-374d4b078216"
      },
      "execution_count": null,
      "outputs": [
        {
          "output_type": "stream",
          "name": "stdout",
          "text": [
            "root\n",
            " |-- order_id: integer (nullable = true)\n",
            " |-- order_date: timestamp (nullable = true)\n",
            " |-- origin_port: string (nullable = true)\n",
            " |-- carrier: string (nullable = true)\n",
            " |-- tpt: integer (nullable = true)\n",
            " |-- service_level: string (nullable = true)\n",
            " |-- ship_ahead_day_count: integer (nullable = true)\n",
            " |-- ship_late_day_count: integer (nullable = true)\n",
            " |-- customer: string (nullable = true)\n",
            " |-- product_id: integer (nullable = true)\n",
            " |-- plant_code: string (nullable = true)\n",
            " |-- destination_port: string (nullable = true)\n",
            " |-- unit_quantity: integer (nullable = true)\n",
            " |-- weight: float (nullable = true)\n",
            "\n"
          ]
        }
      ]
    },
    {
      "cell_type": "code",
      "source": [
        "# Show the data in the modified DataFrame\n",
        "df_spark_ol_2.show()"
      ],
      "metadata": {
        "colab": {
          "base_uri": "https://localhost:8080/"
        },
        "id": "fdD0TqN1di_S",
        "outputId": "116fbda8-330c-4ba7-e49d-ea9f2659bf28"
      },
      "execution_count": null,
      "outputs": [
        {
          "output_type": "stream",
          "name": "stdout",
          "text": [
            "+----------+-------------------+-----------+-------+---+-------------+--------------------+-------------------+---------+----------+----------+----------------+-------------+------+\n",
            "|  order_id|         order_date|origin_port|carrier|tpt|service_level|ship_ahead_day_count|ship_late_day_count| customer|product_id|plant_code|destination_port|unit_quantity|weight|\n",
            "+----------+-------------------+-----------+-------+---+-------------+--------------------+-------------------+---------+----------+----------+----------------+-------------+------+\n",
            "|1447296446|2013-05-26 00:00:00|     PORT09|  V44_3|  1|          CRF|                   3|                  0|V55555_53|   1700106|   PLANT16|          PORT09|          808|  14.3|\n",
            "|1447158014|2013-05-26 00:00:00|     PORT09|  V44_3|  1|          CRF|                   3|                  0|V55555_53|   1700106|   PLANT16|          PORT09|         3188| 87.94|\n",
            "|1447138898|2013-05-26 00:00:00|     PORT09|  V44_3|  1|          CRF|                   3|                  0|V55555_53|   1700106|   PLANT16|          PORT09|         2331|  61.2|\n",
            "|1447363527|2013-05-26 00:00:00|     PORT09|  V44_3|  1|          CRF|                   3|                  0|V55555_53|   1700106|   PLANT16|          PORT09|          847| 16.16|\n",
            "|1447363980|2013-05-26 00:00:00|     PORT09|  V44_3|  1|          CRF|                   3|                  0|V55555_53|   1700106|   PLANT16|          PORT09|         2163| 52.34|\n",
            "|1447351440|2013-05-26 00:00:00|     PORT09|  V44_3|  1|          CRF|                   3|                  0|V55555_53|   1700106|   PLANT16|          PORT09|         3332|  92.8|\n",
            "|1447320235|2013-05-26 00:00:00|     PORT09|  V44_3|  1|          CRF|                   3|                  0|V55555_53|   1700106|   PLANT16|          PORT09|         1782|  46.9|\n",
            "|1447158018|2013-05-26 00:00:00|     PORT09|  V44_3|  1|          CRF|                   3|                  0|V55555_53|   1700106|   PLANT16|          PORT09|          427|  2.86|\n",
            "|1447219340|2013-05-26 00:00:00|     PORT09|  V44_3|  1|          CRF|                   3|                  0|V55555_53|   1700106|   PLANT16|          PORT09|         1291|  26.6|\n",
            "|1447398415|2013-05-26 00:00:00|     PORT09|  V44_3|  1|          CRF|                   3|                  0|V55555_53|   1700106|   PLANT16|          PORT09|         2294|  62.2|\n",
            "|1447381678|2013-05-26 00:00:00|     PORT09|  V44_3|  1|          CRF|                   3|                  0|V55555_53|   1700106|   PLANT16|          PORT09|         2766|  75.5|\n",
            "|1447170784|2013-05-26 00:00:00|     PORT09|  V44_3|  1|          CRF|                   3|                  0|V55555_53|   1700106|   PLANT16|          PORT09|          798|  14.3|\n",
            "|1447155055|2013-05-26 00:00:00|     PORT09|  V44_3|  1|          CRF|                   3|                  0|V55555_53|   1697884|   PLANT16|          PORT09|          739|  73.9|\n",
            "|1447257264|2013-05-26 00:00:00|     PORT09|  V44_3|  1|          CRF|                   3|                  0|V55555_53|   1697884|   PLANT16|          PORT09|          280|   7.8|\n",
            "|1447240988|2013-05-26 00:00:00|     PORT09|  V44_3|  1|          CRF|                   3|                  0|V55555_53|   1697884|   PLANT16|          PORT09|          574|  59.5|\n",
            "|1447257230|2013-05-26 00:00:00|     PORT09|  V44_3|  1|          CRF|                   3|                  0|V55555_53|   1697884|   PLANT16|          PORT09|          556|  52.7|\n",
            "|1447260652|2013-05-26 00:00:00|     PORT09|  V44_3|  1|          CRF|                   3|                  0|V55555_53|   1697884|   PLANT16|          PORT09|          544|  58.5|\n",
            "|1447139374|2013-05-26 00:00:00|     PORT09|  V44_3|  1|          CRF|                   3|                  0|V55555_53|   1697884|   PLANT16|          PORT09|         1151| 181.7|\n",
            "|1447308589|2013-05-26 00:00:00|     PORT09|  V44_3|  1|          CRF|                   3|                  0|V55555_53|   1697884|   PLANT16|          PORT09|         1404| 227.2|\n",
            "|1447191270|2013-05-26 00:00:00|     PORT09|  V44_3|  1|          CRF|                   3|                  0|V55555_53|   1697884|   PLANT16|          PORT09|          662|  74.1|\n",
            "+----------+-------------------+-----------+-------+---+-------------+--------------------+-------------------+---------+----------+----------+----------------+-------------+------+\n",
            "only showing top 20 rows\n",
            "\n"
          ]
        }
      ]
    },
    {
      "cell_type": "code",
      "source": [
        "# Struct datatypes\n",
        "\n",
        "# StringType: Represents string data\n",
        "# Example: StructField(\"fieldname\", StringType(), nullable=True)\n",
        "\n",
        "# IntegerType: Represents integer data (32-bit).\n",
        "# Example: StructField(\"fieldname\", IntegerType(), nullable=True)\n",
        "\n",
        "# LongType: Represents long integer data (64-bit).\n",
        "# Example: StructField(\"fieldname\", LongType(), nullable=True)\n",
        "\n",
        "# FloatType: Represents floating-point numbers.\n",
        "# Example: StructField(\"fieldname\", FloatType(), nullable=True)\n",
        "\n",
        "# DoubleType: Represents double-precision floating-point numbers.\n",
        "# Example: StructField(\"fieldname\", DoubleType(), nullable=True)\n",
        "\n",
        "# BooleanType: Represents boolean (True/False) values.\n",
        "# Example: StructField(\"fieldname\", BooleanType(), nullable=True)\n",
        "\n",
        "# DateType: Represents date values.\n",
        "# Example: StructField(\"fieldname\", DateType(), nullable=True)\n",
        "\n",
        "# TimestampType: Represents timestamp values with date and time.\n",
        "# Example: StructField(\"fieldname\", TimestampType(), nullable=True)\n",
        "\n",
        "# ArrayType: Represents an array or list of elements with a specified data type.\n",
        "# Example: StructField(\"fieldname\", ArrayType(StringType()), nullable=True)\n",
        "\n",
        "# MapType: Represents a key-value map with specified data types for keys and values.\n",
        "# Example: StructField(\"fieldname\", MapType(StringType(), IntegerType()), nullable=True)\n",
        "\n",
        "# StructType: Represents a nested structure or a complex type with multiple fields.\n",
        "# Example: StructField(\"fieldname\", StructType([StructField(\"subfield1\", StringType()), Strusupply_chain_data"
      ],
      "metadata": {
        "id": "aAvqfAFyh0Rw"
      },
      "execution_count": null,
      "outputs": []
    },
    {
      "cell_type": "markdown",
      "source": [
        "We need to first define what we expect from our dataset:\n",
        "\n",
        "**Freight Rates Table (suggested schema)**\n",
        "\n",
        "* Carrier: string (nullable = true) => Should be contained in the list of\n",
        "\n",
        "* Original Port cd: string (nullable = true) => Should be contained in the list\n",
        "\n",
        "* Destination Port: string (nullable = true) => Should be contained in the list\n",
        "\n",
        "* Min Weight Quantity: double (nullable = true) => Should be positive or 0\n",
        "\n",
        "* Max Weight Quantity: double (nullable = true) => Should be positive or 0\n",
        "\n",
        "* SVC_CD: string (nullable = true) => Should be contained in the list of\n",
        "\n",
        "* Min Cost: double (nullable = true) => Should be positive or 0\n",
        "\n",
        "* Rate: double (nullable = true) => Should be positive or 0\n",
        "\n",
        "* Mode of Delivery: string (nullable = true) => Should be contained in the list of\n",
        "\n",
        "* TPT_Day_Count: integer (nullable = true) => Should be positive or 0\n",
        "\n",
        "* Carrier Type: string (nullable = true) => Should be contained in the list of\n",
        "\n"
      ],
      "metadata": {
        "id": "XNW96Mpmwvkb"
      }
    },
    {
      "cell_type": "code",
      "source": [
        "# print current schema of the \"Freight Rate\" table\n",
        "df_spark_fr_2.printSchema()"
      ],
      "metadata": {
        "colab": {
          "base_uri": "https://localhost:8080/"
        },
        "id": "m7LqDDjTzAHj",
        "outputId": "ef021d05-f17c-4f00-ef14-caeb45643d18"
      },
      "execution_count": null,
      "outputs": [
        {
          "output_type": "stream",
          "name": "stdout",
          "text": [
            "root\n",
            " |-- carrier: string (nullable = true)\n",
            " |-- orig_port_cd: string (nullable = true)\n",
            " |-- dest_port_cd: string (nullable = true)\n",
            " |-- minm_wgh_qty: double (nullable = true)\n",
            " |-- max_wgh_qty: double (nullable = true)\n",
            " |-- svc_cd: string (nullable = true)\n",
            " |-- minimum_cost: double (nullable = true)\n",
            " |-- rate: double (nullable = true)\n",
            " |-- mode_dsc: string (nullable = true)\n",
            " |-- tpt_day_cnt: long (nullable = true)\n",
            " |-- carrier_type: string (nullable = true)\n",
            "\n"
          ]
        }
      ]
    },
    {
      "cell_type": "code",
      "source": [
        "#Change the \"Freight Rate\" table schema to the suggested schema\n",
        "schema_fr_2 = StructType([\n",
        "    StructField(\"carrier\", StringType(), nullable=True),\n",
        "    StructField(\"orig_port_cd\", StringType(), nullable=True),\n",
        "    StructField(\"dest_port_cd\", StringType(), nullable=True),\n",
        "    StructField(\"minm_wgh_qty\", FloatType(), nullable=True),\n",
        "    StructField(\"max_wgh_qty\", FloatType(), nullable=True),\n",
        "    StructField(\"svc_cd\", StringType(), nullable=True),\n",
        "    StructField(\"minimum_cost\", FloatType(), nullable=True),\n",
        "    StructField(\"rate\", FloatType(), nullable=True),\n",
        "    StructField(\"mode_dsc\", StringType(), nullable=True),\n",
        "    StructField(\"tpt_day_cnt\", IntegerType(), nullable=True),\n",
        "    StructField(\"carrier_type\", StringType(), nullable=True)\n",
        "])\n",
        "\n",
        "# Change the schema of the existing DataFrame \"df_spark_ol_2\"\n",
        "df_spark_fr_2 = spark.createDataFrame(df_spark_fr_2.rdd, schema=schema_fr_2)"
      ],
      "metadata": {
        "id": "WU62kRuDzW-o"
      },
      "execution_count": null,
      "outputs": []
    },
    {
      "cell_type": "code",
      "source": [
        "# Show the data in the modified DataFrame\n",
        "df_spark_fr_2.printSchema()"
      ],
      "metadata": {
        "colab": {
          "base_uri": "https://localhost:8080/"
        },
        "id": "iZcM5c0j0rJv",
        "outputId": "0bd8ff8f-8aaa-4706-9890-6deb0f7dd0c7"
      },
      "execution_count": null,
      "outputs": [
        {
          "output_type": "stream",
          "name": "stdout",
          "text": [
            "root\n",
            " |-- carrier: string (nullable = true)\n",
            " |-- orig_port_cd: string (nullable = true)\n",
            " |-- dest_port_cd: string (nullable = true)\n",
            " |-- minm_wgh_qty: float (nullable = true)\n",
            " |-- max_wgh_qty: float (nullable = true)\n",
            " |-- svc_cd: string (nullable = true)\n",
            " |-- minimum_cost: float (nullable = true)\n",
            " |-- rate: float (nullable = true)\n",
            " |-- mode_dsc: string (nullable = true)\n",
            " |-- tpt_day_cnt: integer (nullable = true)\n",
            " |-- carrier_type: string (nullable = true)\n",
            "\n"
          ]
        }
      ]
    },
    {
      "cell_type": "markdown",
      "source": [
        "**Weight Costs Table (suggested schema)**\n",
        "\n",
        "* WH: string (nullable = true) => Should be contained in the list of\n",
        "\n",
        "* Cost per Unit: double (nullable = true) => Should be positive or 0\n"
      ],
      "metadata": {
        "id": "5fG9AKlY1JKj"
      }
    },
    {
      "cell_type": "code",
      "source": [
        "# print current schema of the \"Weight Costs\" table\n",
        "df_spark_whCosts_2.printSchema()"
      ],
      "metadata": {
        "colab": {
          "base_uri": "https://localhost:8080/"
        },
        "id": "np3y_rlp06Vl",
        "outputId": "2585f9aa-3b71-4f64-f977-7af948734eaa"
      },
      "execution_count": null,
      "outputs": [
        {
          "output_type": "stream",
          "name": "stdout",
          "text": [
            "root\n",
            " |-- wh: string (nullable = true)\n",
            " |-- cost_unit: double (nullable = true)\n",
            "\n"
          ]
        }
      ]
    },
    {
      "cell_type": "markdown",
      "source": [
        "**Weight Capacities Table (suggested schema)**\n",
        "\n",
        "* Plant ID: string (nullable = true) => Should be contained in the list of\n",
        "\n",
        "* Daily Capacity: integer (nullable = true) => Should be positive or 0  \n"
      ],
      "metadata": {
        "id": "DxvEXKXS2C98"
      }
    },
    {
      "cell_type": "code",
      "source": [
        "# print current schema of the \"Weight Capacities\" table\n",
        "df_spark_whCap_2.printSchema()"
      ],
      "metadata": {
        "colab": {
          "base_uri": "https://localhost:8080/"
        },
        "id": "fh1OLb783brO",
        "outputId": "3015a3a0-f33d-4fe4-dc3b-31d70d297701"
      },
      "execution_count": null,
      "outputs": [
        {
          "output_type": "stream",
          "name": "stdout",
          "text": [
            "root\n",
            " |-- plant_id: string (nullable = true)\n",
            " |-- daily_capacity_: long (nullable = true)\n",
            "\n"
          ]
        }
      ]
    },
    {
      "cell_type": "code",
      "source": [
        "#Change the \"Weight Capacities\" table schema to the suggested schema\n",
        "schema_whCap_2 = StructType([\n",
        "    StructField(\"plant_id\", StringType(), nullable=True),\n",
        "    StructField(\"daily_capacity_\", IntegerType(), nullable=True)\n",
        "])\n",
        "\n",
        "# Change the schema of the existing DataFrame \"df_spark_whCap_2\"\n",
        "df_spark_whCap_2 = spark.createDataFrame(df_spark_whCap_2.rdd, schema=schema_whCap_2)"
      ],
      "metadata": {
        "id": "CNfPIrPpWNsr"
      },
      "execution_count": null,
      "outputs": []
    },
    {
      "cell_type": "code",
      "source": [
        "# Show the data in the modified DataFrame\n",
        "df_spark_whCap_2.printSchema()"
      ],
      "metadata": {
        "colab": {
          "base_uri": "https://localhost:8080/"
        },
        "id": "8Cz6cdjkXu-y",
        "outputId": "251c41d5-cf75-4b14-d363-2b16a18a136a"
      },
      "execution_count": null,
      "outputs": [
        {
          "output_type": "stream",
          "name": "stdout",
          "text": [
            "root\n",
            " |-- plant_id: string (nullable = true)\n",
            " |-- daily_capacity_: integer (nullable = true)\n",
            "\n"
          ]
        }
      ]
    },
    {
      "cell_type": "markdown",
      "source": [
        "**Products per Plant (suggested schema)**\n",
        "\n",
        "* Plant Code: string (nullable = true) => Should be contained in the list of\n",
        "\n",
        "* Product ID: integer (nullable = true) => Should be positive or 0  \n"
      ],
      "metadata": {
        "id": "iYvypcvY2M6b"
      }
    },
    {
      "cell_type": "code",
      "source": [
        "df_spark_ppp_2.printSchema()"
      ],
      "metadata": {
        "colab": {
          "base_uri": "https://localhost:8080/"
        },
        "id": "IeJGfrQ_3cPN",
        "outputId": "bad9f51b-c9bb-4933-dc59-71eb00001471"
      },
      "execution_count": null,
      "outputs": [
        {
          "output_type": "stream",
          "name": "stdout",
          "text": [
            "root\n",
            " |-- plant_code: string (nullable = true)\n",
            " |-- product_id: long (nullable = true)\n",
            "\n"
          ]
        }
      ]
    },
    {
      "cell_type": "code",
      "source": [
        "#Change the \"Products per Plant\" table schema to the suggested schema\n",
        "schema_ppp_2 = StructType([\n",
        "    StructField(\"plant_code\", StringType(), nullable=True),\n",
        "    StructField(\"product_id\", IntegerType(), nullable=True)\n",
        "])\n",
        "\n",
        "# Change the schema of the existing DataFrame \"df_spark_ppp_2\"\n",
        "df_spark_ppp_2 = spark.createDataFrame(df_spark_ppp_2.rdd, schema=schema_ppp_2)"
      ],
      "metadata": {
        "id": "qFzwuW0qX19t"
      },
      "execution_count": null,
      "outputs": []
    },
    {
      "cell_type": "code",
      "source": [
        "# Show the data in the modified DataFrame\n",
        "df_spark_ppp_2.printSchema()"
      ],
      "metadata": {
        "colab": {
          "base_uri": "https://localhost:8080/"
        },
        "id": "X496rJEcX1ph",
        "outputId": "70212e67-5cf7-40d4-bb5e-2b853d6e08f2"
      },
      "execution_count": null,
      "outputs": [
        {
          "output_type": "stream",
          "name": "stdout",
          "text": [
            "root\n",
            " |-- plant_code: string (nullable = true)\n",
            " |-- product_id: integer (nullable = true)\n",
            "\n"
          ]
        }
      ]
    },
    {
      "cell_type": "markdown",
      "source": [
        "**VMI Customer (suggested schema)**\n",
        "\n",
        "* Plant Code: string (nullable = true) => Should be contained in the list of\n",
        "\n",
        "* Customers: string (nullable = true) => Should be contained in the list of  \n"
      ],
      "metadata": {
        "id": "Xt83-00p2MhK"
      }
    },
    {
      "cell_type": "code",
      "source": [
        "df_spark_vc_2.printSchema()"
      ],
      "metadata": {
        "colab": {
          "base_uri": "https://localhost:8080/"
        },
        "id": "_9SuCbiC3dET",
        "outputId": "d062aaff-92a0-468b-f6d7-b877ea84a264"
      },
      "execution_count": null,
      "outputs": [
        {
          "output_type": "stream",
          "name": "stdout",
          "text": [
            "root\n",
            " |-- plant_code: string (nullable = true)\n",
            " |-- customers: string (nullable = true)\n",
            "\n"
          ]
        }
      ]
    },
    {
      "cell_type": "markdown",
      "source": [
        "**Plant Ports Table (suggested schema)**\n",
        "\n",
        "* Plant Code: string (nullable = true) => Should be contained in the list\n",
        "\n",
        "* Port: string (nullable = true) => Should be contained in the list"
      ],
      "metadata": {
        "id": "zQtOeXQF2Lyb"
      }
    },
    {
      "cell_type": "code",
      "source": [
        "df_spark_plant_ports_2.printSchema()"
      ],
      "metadata": {
        "colab": {
          "base_uri": "https://localhost:8080/"
        },
        "id": "Kgo0w5Wr3dig",
        "outputId": "81624d24-1628-49b4-8f86-99ab121d4b43"
      },
      "execution_count": null,
      "outputs": [
        {
          "output_type": "stream",
          "name": "stdout",
          "text": [
            "root\n",
            " |-- plant_code: string (nullable = true)\n",
            " |-- port: string (nullable = true)\n",
            "\n"
          ]
        }
      ]
    },
    {
      "cell_type": "markdown",
      "source": [
        "# **Quick null check after datatype conversion**"
      ],
      "metadata": {
        "id": "HAAbHswqaVaO"
      }
    },
    {
      "cell_type": "code",
      "source": [
        "# Counting null values for each column in the 'Order List' table\n",
        "null_counts_ol = df_spark_ol_2.select(*[\n",
        "    F.sum(F.col(column).isNull().cast(\"int\")).alias(column + '_null_count')\n",
        "    for column in df_spark_ol_2.columns\n",
        "])\n",
        "\n",
        "# Display the result\n",
        "null_counts_ol.show()\n",
        "\n",
        "##############################################################################\n",
        "\n",
        "# Counting null values for each column in the 'Freight Rates' table\n",
        "null_counts_fr = df_spark_fr_2.select(*[\n",
        "    F.sum(F.col(column).isNull().cast(\"int\")).alias(column + '_null_count')\n",
        "    for column in df_spark_fr_2.columns\n",
        "])\n",
        "\n",
        "# Display the result\n",
        "null_counts_fr.show()\n",
        "\n",
        "##############################################################################\n",
        "\n",
        "# Counting null values for each column in the 'Weight Costs' table\n",
        "null_counts_whCosts = df_spark_whCosts_2.select(*[\n",
        "    F.sum(F.col(column).isNull().cast(\"int\")).alias(column + '_null_count')\n",
        "    for column in df_spark_whCosts_2.columns\n",
        "])\n",
        "\n",
        "# Display the result\n",
        "null_counts_whCosts.show()\n",
        "\n",
        "##############################################################################\n",
        "\n",
        "# Counting null values for each column in the 'Weight Capacities' table\n",
        "null_counts_whCap = df_spark_whCap_2.select(*[\n",
        "    F.sum(F.col(column).isNull().cast(\"int\")).alias(column + '_null_count')\n",
        "    for column in df_spark_whCap_2.columns\n",
        "])\n",
        "\n",
        "# Display the result\n",
        "null_counts_whCap.show()\n",
        "\n",
        "##############################################################################\n",
        "\n",
        "# Counting null values for each column in the 'Products Per Plant' table\n",
        "null_counts_ppp = df_spark_ppp_2.select(*[\n",
        "    F.sum(F.col(column).isNull().cast(\"int\")).alias(column + '_null_count')\n",
        "    for column in df_spark_ppp_2.columns\n",
        "])\n",
        "\n",
        "# Display the result\n",
        "null_counts_ppp.show()\n",
        "\n",
        "##############################################################################\n",
        "\n",
        "# Counting null values for each column in the 'Vendor Managed Inventory Customers' table\n",
        "null_counts_vc = df_spark_vc_2.select(*[\n",
        "    F.sum(F.col(column).isNull().cast(\"int\")).alias(column + '_null_count')\n",
        "    for column in df_spark_vc_2.columns\n",
        "])\n",
        "\n",
        "# Display the result\n",
        "null_counts_vc.show()\n",
        "\n",
        "##############################################################################\n",
        "\n",
        "# Counting null values for each column in the 'Plant Ports' table\n",
        "null_counts_plant_ports = df_spark_plant_ports_2.select(*[\n",
        "    F.sum(F.col(column).isNull().cast(\"int\")).alias(column + '_null_count')\n",
        "    for column in df_spark_plant_ports_2.columns\n",
        "])\n",
        "\n",
        "# Display the result\n",
        "null_counts_plant_ports.show()\n",
        "\n"
      ],
      "metadata": {
        "colab": {
          "base_uri": "https://localhost:8080/"
        },
        "id": "wVeqe87qaRrM",
        "outputId": "81286679-0039-4502-a5a8-58b7632d4881"
      },
      "execution_count": null,
      "outputs": [
        {
          "output_type": "stream",
          "name": "stdout",
          "text": [
            "+-------------------+---------------------+----------------------+------------------+--------------+------------------------+-------------------------------+------------------------------+-------------------+---------------------+---------------------+---------------------------+------------------------+-----------------+\n",
            "|order_id_null_count|order_date_null_count|origin_port_null_count|carrier_null_count|tpt_null_count|service_level_null_count|ship_ahead_day_count_null_count|ship_late_day_count_null_count|customer_null_count|product_id_null_count|plant_code_null_count|destination_port_null_count|unit_quantity_null_count|weight_null_count|\n",
            "+-------------------+---------------------+----------------------+------------------+--------------+------------------------+-------------------------------+------------------------------+-------------------+---------------------+---------------------+---------------------------+------------------------+-----------------+\n",
            "|                  0|                    0|                     0|                 0|             0|                       0|                              0|                             0|                  0|                    0|                    0|                          0|                       0|                0|\n",
            "+-------------------+---------------------+----------------------+------------------+--------------+------------------------+-------------------------------+------------------------------+-------------------+---------------------+---------------------+---------------------------+------------------------+-----------------+\n",
            "\n",
            "+------------------+-----------------------+-----------------------+-----------------------+----------------------+-----------------+-----------------------+---------------+-------------------+----------------------+-----------------------+\n",
            "|carrier_null_count|orig_port_cd_null_count|dest_port_cd_null_count|minm_wgh_qty_null_count|max_wgh_qty_null_count|svc_cd_null_count|minimum_cost_null_count|rate_null_count|mode_dsc_null_count|tpt_day_cnt_null_count|carrier_type_null_count|\n",
            "+------------------+-----------------------+-----------------------+-----------------------+----------------------+-----------------+-----------------------+---------------+-------------------+----------------------+-----------------------+\n",
            "|                 0|                      0|                      0|                      0|                     0|                0|                      0|              0|                  0|                     0|                      0|\n",
            "+------------------+-----------------------+-----------------------+-----------------------+----------------------+-----------------+-----------------------+---------------+-------------------+----------------------+-----------------------+\n",
            "\n",
            "+-------------+--------------------+\n",
            "|wh_null_count|cost_unit_null_count|\n",
            "+-------------+--------------------+\n",
            "|            0|                   0|\n",
            "+-------------+--------------------+\n",
            "\n",
            "+-------------------+--------------------------+\n",
            "|plant_id_null_count|daily_capacity__null_count|\n",
            "+-------------------+--------------------------+\n",
            "|                  0|                         0|\n",
            "+-------------------+--------------------------+\n",
            "\n",
            "+---------------------+---------------------+\n",
            "|plant_code_null_count|product_id_null_count|\n",
            "+---------------------+---------------------+\n",
            "|                    0|                    0|\n",
            "+---------------------+---------------------+\n",
            "\n",
            "+---------------------+--------------------+\n",
            "|plant_code_null_count|customers_null_count|\n",
            "+---------------------+--------------------+\n",
            "|                    0|                   0|\n",
            "+---------------------+--------------------+\n",
            "\n",
            "+---------------------+---------------+\n",
            "|plant_code_null_count|port_null_count|\n",
            "+---------------------+---------------+\n",
            "|                    0|              0|\n",
            "+---------------------+---------------+\n",
            "\n"
          ]
        }
      ]
    },
    {
      "cell_type": "code",
      "source": [
        "# df_spark_ol_2\n",
        "# df_spark_fr_2\n",
        "# df_spark_whCosts_2\n",
        "# df_spark_whCap_2\n",
        "# df_spark_ppp_2\n",
        "# df_spark_vc_2\n",
        "# df_spark_plant_ports_2\n",
        "\n",
        "# Order List Table\n",
        "# Freight Rates Table\n",
        "# ##### Weight Costs Table\n",
        "# ##### Weight Capacities Table\n",
        "# ##### Products Per Plant Table\n",
        "# ##### Vendor Managed Inventory Customers Table\n",
        "# ##### Plant Ports Table"
      ],
      "metadata": {
        "id": "zv7_fzESzDvW"
      },
      "execution_count": null,
      "outputs": []
    },
    {
      "cell_type": "code",
      "source": [
        "df_spark_ol_2.columns"
      ],
      "metadata": {
        "colab": {
          "base_uri": "https://localhost:8080/"
        },
        "id": "CwOlOcpYf2jS",
        "outputId": "c36c3ef6-3cea-45ca-957a-01fa52a4eb92"
      },
      "execution_count": null,
      "outputs": [
        {
          "output_type": "execute_result",
          "data": {
            "text/plain": [
              "['order_id',\n",
              " 'order_date',\n",
              " 'origin_port',\n",
              " 'carrier',\n",
              " 'tpt',\n",
              " 'service_level',\n",
              " 'ship_ahead_day_count',\n",
              " 'ship_late_day_count',\n",
              " 'customer',\n",
              " 'product_id',\n",
              " 'plant_code',\n",
              " 'destination_port',\n",
              " 'unit_quantity',\n",
              " 'weight']"
            ]
          },
          "metadata": {},
          "execution_count": 60
        }
      ]
    },
    {
      "cell_type": "code",
      "source": [
        "df_spark_fr_2.columns"
      ],
      "metadata": {
        "colab": {
          "base_uri": "https://localhost:8080/"
        },
        "id": "DeehAN65g1ek",
        "outputId": "711488aa-5afb-48b5-c2e8-9e3dfe8f4a6f"
      },
      "execution_count": null,
      "outputs": [
        {
          "output_type": "execute_result",
          "data": {
            "text/plain": [
              "['carrier',\n",
              " 'orig_port_cd',\n",
              " 'dest_port_cd',\n",
              " 'minm_wgh_qty',\n",
              " 'max_wgh_qty',\n",
              " 'svc_cd',\n",
              " 'minimum_cost',\n",
              " 'rate',\n",
              " 'mode_dsc',\n",
              " 'tpt_day_cnt',\n",
              " 'carrier_type']"
            ]
          },
          "metadata": {},
          "execution_count": 61
        }
      ]
    },
    {
      "cell_type": "code",
      "source": [
        "df_spark_whCosts_2.columns"
      ],
      "metadata": {
        "colab": {
          "base_uri": "https://localhost:8080/"
        },
        "id": "0A9neFZYg1bo",
        "outputId": "14da234e-011f-4530-b67a-7a51a256757d"
      },
      "execution_count": null,
      "outputs": [
        {
          "output_type": "execute_result",
          "data": {
            "text/plain": [
              "['wh', 'cost_unit']"
            ]
          },
          "metadata": {},
          "execution_count": 62
        }
      ]
    },
    {
      "cell_type": "code",
      "source": [
        "df_spark_whCap_2.columns"
      ],
      "metadata": {
        "colab": {
          "base_uri": "https://localhost:8080/"
        },
        "id": "dKdt4jOHg1UP",
        "outputId": "c0537863-f10e-415d-d138-a3f2aa2f9765"
      },
      "execution_count": null,
      "outputs": [
        {
          "output_type": "execute_result",
          "data": {
            "text/plain": [
              "['plant_id', 'daily_capacity_']"
            ]
          },
          "metadata": {},
          "execution_count": 63
        }
      ]
    },
    {
      "cell_type": "code",
      "source": [
        "df_spark_ppp_2.columns"
      ],
      "metadata": {
        "colab": {
          "base_uri": "https://localhost:8080/"
        },
        "id": "lmAPBa8-g1R0",
        "outputId": "8040fb78-303e-4d28-c2b6-b87f9f710676"
      },
      "execution_count": null,
      "outputs": [
        {
          "output_type": "execute_result",
          "data": {
            "text/plain": [
              "['plant_code', 'product_id']"
            ]
          },
          "metadata": {},
          "execution_count": 64
        }
      ]
    },
    {
      "cell_type": "code",
      "source": [
        "df_spark_vc_2.columns"
      ],
      "metadata": {
        "colab": {
          "base_uri": "https://localhost:8080/"
        },
        "id": "jQUdcs0Dg1PQ",
        "outputId": "cc622fb7-f234-44fb-ea19-6c0de05aa28b"
      },
      "execution_count": null,
      "outputs": [
        {
          "output_type": "execute_result",
          "data": {
            "text/plain": [
              "['plant_code', 'customers']"
            ]
          },
          "metadata": {},
          "execution_count": 65
        }
      ]
    },
    {
      "cell_type": "code",
      "source": [
        "df_spark_plant_ports_2.columns"
      ],
      "metadata": {
        "colab": {
          "base_uri": "https://localhost:8080/"
        },
        "id": "OY7a0VJTg1Mg",
        "outputId": "65fc1677-1b3a-4170-be18-79c5ed392420"
      },
      "execution_count": null,
      "outputs": [
        {
          "output_type": "execute_result",
          "data": {
            "text/plain": [
              "['plant_code', 'port']"
            ]
          },
          "metadata": {},
          "execution_count": 66
        }
      ]
    },
    {
      "cell_type": "markdown",
      "source": [
        "# **Data Analysis**"
      ],
      "metadata": {
        "id": "OeETA1WqPpuu"
      }
    },
    {
      "cell_type": "markdown",
      "source": [
        "#### **Data Distribution**"
      ],
      "metadata": {
        "id": "x-mADPZHQPFm"
      }
    },
    {
      "cell_type": "markdown",
      "source": [
        "Summary statistics for **Unit Quantity** and **Weight** in **Order List** table"
      ],
      "metadata": {
        "id": "zg5nmIpoSTKG"
      }
    },
    {
      "cell_type": "code",
      "source": [
        "sum_stat_ol = df_spark_ol_2.describe(['unit_quantity', 'weight'])"
      ],
      "metadata": {
        "id": "AoUZmlZuTEaF"
      },
      "execution_count": null,
      "outputs": []
    },
    {
      "cell_type": "code",
      "source": [
        "sum_stat_ol.show()"
      ],
      "metadata": {
        "colab": {
          "base_uri": "https://localhost:8080/"
        },
        "id": "4sLZtYO8Tq44",
        "outputId": "1c568d29-bf25-4485-c1fd-9c2fa8ba94c0"
      },
      "execution_count": null,
      "outputs": [
        {
          "output_type": "stream",
          "name": "stdout",
          "text": [
            "+-------+------------------+------------------+\n",
            "|summary|     unit_quantity|            weight|\n",
            "+-------+------------------+------------------+\n",
            "|  count|              9215|              9215|\n",
            "|   mean|3202.7471513836135|19.871687518916463|\n",
            "| stddev|15965.622259748177| 66.56906328221133|\n",
            "|    min|               235|               0.0|\n",
            "|    max|            561847|          2338.405|\n",
            "+-------+------------------+------------------+\n",
            "\n"
          ]
        }
      ]
    },
    {
      "cell_type": "markdown",
      "source": [
        "Histogram Plot of **unit_quantity** and **weight**"
      ],
      "metadata": {
        "id": "Niiy01PYVo6M"
      }
    },
    {
      "cell_type": "code",
      "source": [
        "pd_ol_2 = df_spark_ol_2.toPandas()"
      ],
      "metadata": {
        "colab": {
          "base_uri": "https://localhost:8080/"
        },
        "id": "a5ZCkqn1Vz33",
        "outputId": "f63ef5b0-c9fa-4561-9475-8f6a8c731d57"
      },
      "execution_count": null,
      "outputs": [
        {
          "output_type": "stream",
          "name": "stderr",
          "text": [
            "/content/spark-3.0.2-bin-hadoop3.2/python/pyspark/sql/pandas/conversion.py:175: FutureWarning: Passing unit-less datetime64 dtype to .astype is deprecated and will raise in a future version. Pass 'datetime64[ns]' instead\n",
            "  series = series.astype(t, copy=False)\n"
          ]
        }
      ]
    },
    {
      "cell_type": "code",
      "source": [
        "# Create a histogram for unit_quantity\n",
        "plt.figure(figsize=(20, 10))\n",
        "pd_ol_2['unit_quantity'].plot.hist(bins=10, color='blue', alpha=0.7)\n",
        "plt.xlabel('Unit Quantity')\n",
        "plt.ylabel('Frequency')\n",
        "plt.title('Histogram of Unit Quantity')\n",
        "plt.grid(True)\n",
        "plt.show()"
      ],
      "metadata": {
        "colab": {
          "base_uri": "https://localhost:8080/",
          "height": 835
        },
        "id": "cdPxoFqoWbS-",
        "outputId": "0be9cf49-a234-4585-d38c-344e954d01ee"
      },
      "execution_count": null,
      "outputs": [
        {
          "output_type": "display_data",
          "data": {
            "text/plain": [
              "<Figure size 2000x1000 with 1 Axes>"
            ],
            "image/png": "[encoded data removed]"
          },
          "metadata": {}
        }
      ]
    },
    {
      "cell_type": "code",
      "source": [
        "# df_spark_ol_2\n",
        "# df_spark_fr_2\n",
        "# df_spark_whCosts_2\n",
        "# df_spark_whCap_2\n",
        "# df_spark_ppp_2\n",
        "# df_spark_vc_2\n",
        "# df_spark_plant_ports_2\n",
        "\n",
        "# Order List Table\n",
        "# Freight Rates Table\n",
        "# ##### Weight Costs Table\n",
        "# ##### Weight Capacities Table\n",
        "# ##### Products Per Plant Table\n",
        "# ##### Vendor Managed Inventory Customers Table\n",
        "# ##### Plant Ports Table"
      ],
      "metadata": {
        "id": "lowS8chqV8tG"
      },
      "execution_count": null,
      "outputs": []
    }
  ]
}